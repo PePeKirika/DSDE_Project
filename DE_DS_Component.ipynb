{
 "cells": [
  {
   "cell_type": "code",
   "execution_count": 1,
   "metadata": {},
   "outputs": [],
   "source": [
    "from pyspark.sql import SparkSession, Row\n",
    "from pyspark.sql.functions import col, explode, from_json , StructType, StringType, regexp_extract, collect_list, avg, log1p, exp, expr\n",
    "from pyspark.sql.types import StructType, StructField, StringType, ArrayType, IntegerType\n",
    "from pyspark.ml.feature import StringIndexer, OneHotEncoder, VectorAssembler, CountVectorizer\n",
    "from pyspark.ml import Pipeline\n",
    "from pyspark.ml.regression import RandomForestRegressor, GBTRegressor\n",
    "from pyspark.ml.evaluation import RegressionEvaluator\n",
    "\n",
    "import pandas as pd"
   ]
  },
  {
   "cell_type": "code",
   "execution_count": 2,
   "metadata": {},
   "outputs": [],
   "source": [
    "spark = SparkSession.builder\\\n",
    "        .master(\"local[6]\") \\\n",
    "        .appName('Data Engineer Data Science Component')\\\n",
    "        .config('spark.ui.port', '4040')\\\n",
    "        .getOrCreate()"
   ]
  },
  {
   "cell_type": "code",
   "execution_count": 3,
   "metadata": {},
   "outputs": [],
   "source": [
    "# spark.stop()"
   ]
  },
  {
   "cell_type": "markdown",
   "metadata": {},
   "source": [
    "Read all json"
   ]
  },
  {
   "cell_type": "code",
   "execution_count": null,
   "metadata": {},
   "outputs": [],
   "source": [
    "base_dir = \"./Raw_data\"  # Replace with your directory path\n",
    "# base_dir = './test'\n",
    "\n",
    "df = spark.read.option(\"multiline\", True).option(\"recursiveFileLookup\", True).json(base_dir)"
   ]
  },
  {
   "cell_type": "markdown",
   "metadata": {},
   "source": [
    "Topic Distribution Over Time"
   ]
  },
  {
   "cell_type": "code",
   "execution_count": null,
   "metadata": {},
   "outputs": [
    {
     "name": "stdout",
     "output_type": "stream",
     "text": [
      "+------------+----+---------------+\n",
      "|subject_area|date|aggregationType|\n",
      "+------------+----+---------------+\n",
      "+------------+----+---------------+\n",
      "\n"
     ]
    }
   ],
   "source": [
    "#Topic Distribution Over Time\n",
    "\n",
    "Topic_Distribution_Columns = [\n",
    "    col(\"abstracts-retrieval-response.subject-areas.subject-area\").alias('subject_area'), #ดูจำนวน subject แต่ละอัน ในแต่ละปี\n",
    "    col(\"abstracts-retrieval-response.coredata.prism:coverDate\").alias('date'), # ดูปี\n",
    "    col(\"abstracts-retrieval-response.coredata.prism:aggregationType\").alias('aggregationType') #  เผื่อดูแยกแต่ละประเภทการตีพิมพ์\n",
    "]\n",
    "\n",
    "Topic_Distribution_df = df.select(*Topic_Distribution_Columns)\n",
    "\n",
    "Topic_Distribution_df_exploded = Topic_Distribution_df.withColumn('subject_area',explode(col('subject_area').getItem('$')))\n",
    "\n",
    "Topic_Distribution_df_year = Topic_Distribution_df_exploded.withColumn('date',regexp_extract(col('date'),r'(\\d{4})',1))\n",
    "\n",
    "# Topic_Distribution_df_year.show()\n",
    "\n",
    "# Topic_Distribution_df_exploded.groupBy('subject_area').count().orderBy('count', ascending=False).show(10, False)\n",
    "\n",
    "# Topic_Distribution_df_year.filter(col('subject_area').isNull()).show(10, False)\n"
   ]
  },
  {
   "cell_type": "code",
   "execution_count": null,
   "metadata": {},
   "outputs": [
    {
     "name": "stdout",
     "output_type": "stream",
     "text": [
      "Data extraction complete! Check the output folder.\n"
     ]
    }
   ],
   "source": [
    "output_file = \"./output/Topic_Distribution_Data\"  # Replace with your desired output path\n",
    "# Save the extracted data to CSV\n",
    "try:\n",
    "    Topic_Distribution_df_year.coalesce(1).write.option(\"header\", True).mode('overwrite').csv(output_file)\n",
    "    print(\"Data extraction complete! Check the output folder.\")\n",
    "except Exception as e:\n",
    "    print(f\"Error: {e}\")"
   ]
  },
  {
   "cell_type": "markdown",
   "metadata": {},
   "source": [
    "Citation network"
   ]
  },
  {
   "cell_type": "code",
   "execution_count": null,
   "metadata": {},
   "outputs": [
    {
     "name": "stdout",
     "output_type": "stream",
     "text": [
      "+-------------------------------------------------------------------------------------------------------------------------------------------------------------------------------------------------+-----------+\n",
      "|title                                                                                                                                                                                            |SGR_id     |\n",
      "+-------------------------------------------------------------------------------------------------------------------------------------------------------------------------------------------------+-----------+\n",
      "|Nuclear imaging for localization and surgical outcome prediction in epilepsy: A review of latest discoveries and future perspectives                                                             |85145388556|\n",
      "|Syntheses and anti-HIV and human cluster of differentiation 4 (CD4) down-modulating potencies of pyridine-fused cyclotriazadisulfonamide (CADA) compounds                                        |85096172220|\n",
      "|Effect of CoMo metal loading on H2 and CNTs production from biogas by integrative process                                                                                                        |85133691726|\n",
      "|Tropical Pacific Forcing of Hydroclimate in the Source Area of the Yellow River                                                                                                                  |85121026052|\n",
      "|Highly effective removal of perfluorooctanoic acid (PFOA) in water with DBD-plasma-enhanced rice husks                                                                                           |85168059883|\n",
      "|The prevalence and economic burden of treatment-resistant depression in Thailand                                                                                                                 |85167764240|\n",
      "|cGAS deficiency enhances inflammasome activation in macrophages and inflammatory pathology in pristane-induced lupus                                                                             |85145345425|\n",
      "|Development of eco-friendly antifungal and antibacterial adhesive derived from modified cassava starch waste/polyvinyl alcohol containing green synthesized nano-silver                          |85168236124|\n",
      "|Transcriptome analysis of Pueraria candollei var. mirifica for gene discovery in the biosyntheses of isoflavones and miroestrol                                                                  |85077258483|\n",
      "|Quantitative microbial risk assessment of the gastrointestinal risks to swimmers at Southeast Asian urban beaches using site-specific and combined autochthonous and fecal bacteria exposure data|85167455063|\n",
      "+-------------------------------------------------------------------------------------------------------------------------------------------------------------------------------------------------+-----------+\n",
      "only showing top 10 rows\n",
      "\n"
     ]
    }
   ],
   "source": [
    "#abstracts-retrieval-response.item.bibrecord.item-info.itemidlist.itemid //เอา SGR เป็นหลัก (ใช้ดู reference)\n",
    "#abstracts-retrieval-response.item.bibrecord.tail.bibliography.reference[0].ref-info.refd-itemidlist.itemid //เอา SGR เป็นหลัก (ใช้ดู reference)\n",
    "Citation_Network_Columns = [\n",
    "    col(\"abstracts-retrieval-response.coredata.dc:title\").alias('title'),\n",
    "    col(\"abstracts-retrieval-response.item.bibrecord.item-info.itemidlist.itemid\").alias('SGR_id'), #ดูจำนวน subject แต่ละอัน ในแต่ละปี\n",
    "]\n",
    "Citation_Network_df = df.select(*Citation_Network_Columns)\n",
    "\n",
    "Citation_Network_df_exploded = Citation_Network_df.withColumn('SGR_id',explode(col('SGR_id')))\n",
    "\n",
    "filtered_df = Citation_Network_df_exploded.filter(col(\"SGR_id\").getItem('@idtype') == (\"SGR\"))\n",
    "\n",
    "Title_SGR_ID_df = filtered_df.withColumn('SGR_id', col('SGR_id').getItem('$'))\n",
    "\n",
    "# Title_SGR_ID_df.show(10, False)"
   ]
  },
  {
   "cell_type": "code",
   "execution_count": null,
   "metadata": {},
   "outputs": [
    {
     "name": "stdout",
     "output_type": "stream",
     "text": [
      "+-----+---+\n",
      "|title|Ref|\n",
      "+-----+---+\n",
      "+-----+---+\n",
      "\n"
     ]
    }
   ],
   "source": [
    "#abstracts-retrieval-response.item.bibrecord.tail.bibliography.reference[0].ref-info.refd-itemidlist.itemid //เอา SGR เป็นหลัก (ใช้ดู reference)\n",
    "Reference_Column = [\n",
    "    col(\"abstracts-retrieval-response.coredata.dc:title\").alias('title'),\n",
    "    col(\"abstracts-retrieval-response.item.bibrecord.tail.bibliography.reference\").alias('Ref'),\n",
    "]\n",
    "\n",
    "Reference_df = df.select(*Reference_Column)\n",
    "Reference_df_exploded = Reference_df.withColumn('Ref',explode(col('Ref')))\n",
    "\n",
    "Reference_df_id = Reference_df_exploded.withColumn('Ref', col('Ref').getItem('ref-info').getItem('refd-itemidlist').getItem('itemid'))\n",
    "\n",
    "\n",
    "schema = ArrayType(StructType([\n",
    "    StructField(\"$\", StringType(), True),\n",
    "    StructField(\"@idtype\", StringType(), True)\n",
    "]))\n",
    "Reference_df_id_json = Reference_df_id.withColumn('Ref', from_json(col('Ref'), schema))\n",
    "\n",
    "Reference_df_id_exploded = Reference_df_id_json.withColumn('Ref',explode(col('Ref')))\n",
    "\n",
    "filtered_df_SGR = Reference_df_id_exploded.filter(col(\"Ref\").getItem('@idtype') == (\"SGR\"))\n",
    "\n",
    "Reference_df_SGR = filtered_df_SGR.withColumn('Ref', col('Ref').getItem('$'))\n",
    "\n",
    "Connection_df = Reference_df_SGR.join(Title_SGR_ID_df, Reference_df_SGR.title == Title_SGR_ID_df.title, 'left').drop(Title_SGR_ID_df.title).select('title','SGR_id','Ref')"
   ]
  },
  {
   "cell_type": "code",
   "execution_count": null,
   "metadata": {},
   "outputs": [
    {
     "name": "stdout",
     "output_type": "stream",
     "text": [
      "Data extraction complete! Check the output folder.\n"
     ]
    }
   ],
   "source": [
    "output_file_1 = \"./output/Citation_network_title_id\"  \n",
    "output_file_2 = \"./output/Citation_network_ref\"  \n",
    "# Save the extracted data to CSV\n",
    "try:\n",
    "    Title_SGR_ID_df.coalesce(1).write.option(\"header\", True).mode('overwrite').csv(output_file_1)\n",
    "    Connection_df.coalesce(1).write.option(\"header\", True).mode('overwrite').csv(output_file_2)\n",
    "    print(\"Data extraction complete! Check the output folder.\")\n",
    "except Exception as e:\n",
    "    print(f\"Error: {e}\")"
   ]
  },
  {
   "cell_type": "markdown",
   "metadata": {},
   "source": [
    "Citedby count Prediction"
   ]
  },
  {
   "cell_type": "code",
   "execution_count": null,
   "metadata": {},
   "outputs": [],
   "source": [
    "Citedby_count_Column = [\n",
    "    # col(\"abstracts-retrieval-response.coredata.dc:identifier\").alias('identifier'),\n",
    "    col(\"abstracts-retrieval-response.coredata.prism:publicationName\").alias('publication_name'),\n",
    "    # col(\"abstracts-retrieval-response.coredata.prism:aggregationType\").alias('aggregationType'),\n",
    "    col(\"abstracts-retrieval-response.coredata.citedby-count\").alias('citedby_count'),\n",
    "    #เพิ่มเติม เป็นตัวแปรต้นสำหรับ predict\n",
    "    col(\"abstracts-retrieval-response.subject-areas.subject-area\").alias('subject_area'),\n",
    "    col(\"abstracts-retrieval-response.affiliation\").alias('affiliation'),\n",
    "    \n",
    "\n",
    "]\n",
    "Citedby_count_df = df.select(*Citedby_count_Column)\n",
    "\n",
    "Citedby_count_df = Citedby_count_df.withColumn(\n",
    "    'citedby_count', col('citedby_count').cast('int')\n",
    ")\n",
    "\n",
    "# เก็บไว้ก่อน\n",
    "# Journey_Count_By_Publication_Name = Journal_Impact_df.groupBy('publication_name').agg(\n",
    "#     sum('citedby_count').alias('total_citedby_count'),                                                                                                                                                                                                                                                                                                                                                                                                                                                                                                                                 \n",
    "#     count('citedby_count').alias('number_of_articles')\n",
    "#     ).orderBy('total_citedby_count', ascending=False)\n",
    "# Journey_Count_By_Publication_Name.show(10, False)"
   ]
  },
  {
   "cell_type": "code",
   "execution_count": null,
   "metadata": {},
   "outputs": [],
   "source": [
    "#start encoding subject_area\n",
    "Citedby_count_df_exploded = Citedby_count_df.withColumn('subject_area',explode(col('subject_area').getItem('$')))\n",
    "\n",
    "\n",
    "Citedby_count_df_grouped = Citedby_count_df_exploded.groupBy('publication_name').agg(\n",
    "    collect_list(\"subject_area\").alias(\"subject_area_list\"),\n",
    ")\n",
    "\n",
    "cv_subject = CountVectorizer(inputCol=\"subject_area_list\", outputCol=\"subject_area_vector\", binary=True)\n",
    "\n",
    "\n",
    "encode_subject_df = cv_subject.fit(Citedby_count_df_grouped).transform(Citedby_count_df_grouped).drop('subject_area_list').join(Citedby_count_df, 'publication_name', 'left').drop('subject_area')\n",
    "\n",
    "#start encoding affiliation\n",
    "schema = ArrayType(StructType([\n",
    "    StructField(\"affiliation-city\", StringType(), True),\n",
    "    StructField(\"@id\", StringType(), True),\n",
    "    StructField(\"affilname\", StringType(), True),\n",
    "    StructField(\"affiliation-country\", StringType(), True),\n",
    "    StructField(\"@href\", StringType(), True),\n",
    "]))\n",
    "encode_subject_df_json = encode_subject_df.withColumn('affiliation', from_json(col('affiliation'), schema))\n",
    "\n",
    "encode_subject_df_json_exploded = encode_subject_df_json.withColumn('affiliation',explode(col('affiliation').getItem('affilname')))\n",
    "\n",
    "encode_subject_df_json_grouped = encode_subject_df_json_exploded.groupBy('publication_name').agg(\n",
    "    collect_list(\"affiliation\").alias(\"affiliation_list\"),\n",
    ")\n",
    "\n",
    "cv_affiliation = CountVectorizer(inputCol=\"affiliation_list\", outputCol=\"affiliation_vector\", binary=True)\n",
    "\n",
    "encode_affiliation_df = cv_affiliation.fit(encode_subject_df_json_grouped).transform(encode_subject_df_json_grouped).drop('affiliation_list').join(encode_subject_df_json, 'publication_name', 'left').drop('affiliation')\n",
    "\n",
    "\n",
    "#start encoding publication_name\n",
    "\n",
    "indexer_publication = StringIndexer(inputCol=\"publication_name\", outputCol=\"publication_name_index\")\n",
    "encoder_publication = OneHotEncoder(inputCol=\"publication_name_index\", outputCol=\"publication_name_vector\")\n",
    "\n",
    "pipeline = Pipeline(stages=[indexer_publication , encoder_publication])\n",
    "\n",
    "encode_df = pipeline.fit(encode_affiliation_df).transform(encode_affiliation_df).drop('aggregationType' , 'aggregationType_index', 'publication_name' , 'publication_name_index', 'identifier', 'identifier_index')\n",
    "\n",
    "# encode_df.show(10, False)"
   ]
  },
  {
   "cell_type": "markdown",
   "metadata": {},
   "source": [
    "Data Prepare"
   ]
  },
  {
   "cell_type": "code",
   "execution_count": null,
   "metadata": {},
   "outputs": [],
   "source": [
    "#fillna\n",
    "filled_df = encode_df.fillna({'citedby_count':encode_df.agg(avg('citedby_count').alias('avg')).first()['avg']})\n",
    "\n",
    "#drop outlier\n",
    "percentile = filled_df.approxQuantile('citedby_count', [0.25, 0.75], 0)\n",
    "Q1 = percentile[0]\n",
    "Q3 = percentile[1]\n",
    "IQR = Q3 - Q1\n",
    "\n",
    "lower_bound = Q1 - 1.5 * IQR\n",
    "upper_bound = Q3 + 1.5 * IQR\n",
    "\n",
    "drop_outlier_df = filled_df.filter((col('citedby_count') >= lower_bound) & (col('citedby_count') <= upper_bound))\n",
    "\n",
    "#catergorize 0 citation\n",
    "with_is_zero_df = drop_outlier_df.withColumn('is_zero_citedby_count', expr(\"CASE WHEN citedby_count = 0 THEN 1 ELSE 0 END\"))\n",
    "\n",
    "is_zero_indexer = StringIndexer(inputCol=\"is_zero_citedby_count\", outputCol=\"is_zero_citedby_count_index\")\n",
    "is_zero_encoder = OneHotEncoder(inputCol=\"is_zero_citedby_count_index\", outputCol=\"is_zero_citedby_count_vector\")\n",
    "\n",
    "pipeline = Pipeline(stages=[is_zero_indexer , is_zero_encoder])\n",
    "\n",
    "final_df = pipeline.fit(with_is_zero_df).transform(with_is_zero_df).drop('is_zero_citedby_count' , 'is_zero_citedby_count_index')"
   ]
  },
  {
   "cell_type": "code",
   "execution_count": null,
   "metadata": {},
   "outputs": [],
   "source": [
    "## For tuning hyperparameter\n",
    "# Columns = [\"numTrees\", \"maxDepth\", \"subsamplingRate\", \"minInstancesPerNode\", \"featureSubsetStrategy\", \"rmse\", \"mae\", \"r2\"]\n",
    "\n",
    "# rf_param_df = pd.DataFrame(columns=Columns)\n",
    "\n",
    "# rf_param_df = pd.read_csv('./output/RF_param.csv')"
   ]
  },
  {
   "cell_type": "markdown",
   "metadata": {},
   "source": [
    "Data Science Component"
   ]
  },
  {
   "cell_type": "code",
   "execution_count": null,
   "metadata": {},
   "outputs": [],
   "source": [
    "feature_columns = ['affiliation_vector', 'subject_area_vector', 'publication_name_vector', 'is_zero_citedby_count_vector']\n",
    "\n",
    "assembler = VectorAssembler(inputCols=feature_columns, outputCol=\"features\")\n",
    "data = assembler.transform(final_df)\n",
    "data = data.select(\"features\", \"citedby_count\")\n",
    "\n",
    "train_data, test_data = data.randomSplit([0.7, 0.3], seed=42069)"
   ]
  },
  {
   "cell_type": "code",
   "execution_count": null,
   "metadata": {},
   "outputs": [],
   "source": [
    "\n",
    "# gbt = GBTRegressor(\n",
    "#     featuresCol=\"features\", \n",
    "#     labelCol=\"citedby_count\", \n",
    "#     maxIter=10,\n",
    "#     maxDepth=15,\n",
    "#     stepSize=0.2,\n",
    "#     seed=42069\n",
    "#     )\n",
    "\n",
    "rf = RandomForestRegressor(\n",
    "    featuresCol=\"features\", \n",
    "    labelCol=\"citedby_count\", \n",
    "    numTrees=50, \n",
    "    maxDepth=10, \n",
    "    subsamplingRate=0.8,\n",
    "    minInstancesPerNode=5,\n",
    "    featureSubsetStrategy=\"auto\",\n",
    "    seed=42069\n",
    ")"
   ]
  },
  {
   "cell_type": "code",
   "execution_count": null,
   "metadata": {},
   "outputs": [],
   "source": [
    "# gbt_model = gbt.fit(train_data)\n",
    "rf_model = rf.fit(train_data)\n",
    "\n",
    "\n",
    "# gbt_predictions = gbt_model.transform(test_data)\n",
    "rf_predictions = rf_model.transform(test_data)\n",
    "\n",
    "model = rf_model\n",
    "predictions = rf_predictions"
   ]
  },
  {
   "cell_type": "code",
   "execution_count": null,
   "metadata": {},
   "outputs": [
    {
     "name": "stdout",
     "output_type": "stream",
     "text": [
      "Root Mean Squared Error (RMSE): 3.967437275228513\n",
      "Mean Absolute Error (MAE): 2.5120940200712703\n",
      "R-Squared (R²): 0.31602971584446005\n"
     ]
    }
   ],
   "source": [
    "evaluator_rmse = RegressionEvaluator(labelCol=\"citedby_count\", predictionCol=\"prediction\", metricName=\"rmse\")\n",
    "evaluator_mae = RegressionEvaluator(labelCol=\"citedby_count\", predictionCol=\"prediction\", metricName=\"mae\")\n",
    "evaluator_r2 = RegressionEvaluator(labelCol=\"citedby_count\", predictionCol=\"prediction\", metricName=\"r2\")\n",
    "\n",
    "# gbt_rmse = evaluator_rmse.evaluate(gbt_predictions)\n",
    "# rf_rmse = evaluator_rmse.evaluate(rf_predictions)\n",
    "\n",
    "# gbt_mae = evaluator_mae.evaluate(gbt_predictions)\n",
    "# rf_mae = evaluator_mae.evaluate(rf_predictions)\n",
    "\n",
    "# gbt_r2 = evaluator_r2.evaluate(gbt_predictions)\n",
    "# rf_r2 = evaluator_r2.evaluate(rf_predictions)\n",
    "\n",
    "\n",
    "# print(f\"GBT RMSE: {gbt_rmse}  RF RMSE: {rf_rmse}\")\n",
    "# print(f\"GBT MAE: {gbt_mae}  RF MAE: {rf_mae}\")\n",
    "# print(f\"GBT R²: {gbt_r2}  RF R²: {rf_r2}\")\n",
    "\n",
    "rmse = evaluator_rmse.evaluate(predictions)\n",
    "mae = evaluator_mae.evaluate(predictions)\n",
    "r2 = evaluator_r2.evaluate(predictions)\n",
    "\n",
    "print(f\"Root Mean Squared Error (RMSE): {rmse}\")\n",
    "print(f\"Mean Absolute Error (MAE): {mae}\")\n",
    "print(f\"R-Squared (R²): {r2}\")"
   ]
  },
  {
   "cell_type": "code",
   "execution_count": null,
   "metadata": {},
   "outputs": [],
   "source": [
    "# new_row = [ rf.getNumTrees(), rf.getMaxDepth(), rf.getSubsamplingRate(), rf.getMinInstancesPerNode(), rf.getFeatureSubsetStrategy(), rmse, mae, r2]\n",
    "\n",
    "# rf_param_df.loc[len(rf_param_df)] = new_row"
   ]
  },
  {
   "cell_type": "code",
   "execution_count": null,
   "metadata": {},
   "outputs": [],
   "source": [
    "# rf_param_df.tail()\n",
    "\n",
    "# rf_param_df.drop(len(rf_param_df)-1, inplace=True)\n",
    "\n",
    "# rf_param_df.to_csv('./output/RF_param.csv', index=False)"
   ]
  },
  {
   "cell_type": "code",
   "execution_count": null,
   "metadata": {},
   "outputs": [
    {
     "name": "stdout",
     "output_type": "stream",
     "text": [
      "+-----------------------------------------------------------------------------------------------------------------------------------------------------------------------------------------------------------------------------------------------------------------------------------------------------------------------------------------------------------------------------------------------------------------------------------------------------------------------------------------------------------------------------------------------------------------------------------------------------------------------------------------------------------------------------------------------------------------------------------------------------------------------------------------------------------------------------------------------------------------------------------------------------------------------------------------------------------------------------------------------------------------------------------------------------------------------------------------------------------------------------------------------------------------------------------------------------------------------------------------------------------------------------------------------------------------------------------------------------------------------------------------------------------------------------------------------------------------------------------------------------------------------------------------------------------------------------------------------------------------------------------------------------------------------------------------------------------------------------------------------------------------------------------------------------------------------------------------------------------------------------------------------------------------------------------------------------------------------------------------------------------------------------------------------------------------------------------------------------------------------------------------------------------------------------------------------------------------------------------------------------------------------------------------------------------------------------------------------------------------------------------------------------------------------------------------------------------------------------------------+-------------+------------------+\n",
      "|features                                                                                                                                                                                                                                                                                                                                                                                                                                                                                                                                                                                                                                                                                                                                                                                                                                                                                                                                                                                                                                                                                                                                                                                                                                                                                                                                                                                                                                                                                                                                                                                                                                                                                                                                                                                                                                                                                                                                                                                                                                                                                                                                                                                                                                                                                                                                                                                                                                                                                 |citedby_count|prediction        |\n",
      "+-----------------------------------------------------------------------------------------------------------------------------------------------------------------------------------------------------------------------------------------------------------------------------------------------------------------------------------------------------------------------------------------------------------------------------------------------------------------------------------------------------------------------------------------------------------------------------------------------------------------------------------------------------------------------------------------------------------------------------------------------------------------------------------------------------------------------------------------------------------------------------------------------------------------------------------------------------------------------------------------------------------------------------------------------------------------------------------------------------------------------------------------------------------------------------------------------------------------------------------------------------------------------------------------------------------------------------------------------------------------------------------------------------------------------------------------------------------------------------------------------------------------------------------------------------------------------------------------------------------------------------------------------------------------------------------------------------------------------------------------------------------------------------------------------------------------------------------------------------------------------------------------------------------------------------------------------------------------------------------------------------------------------------------------------------------------------------------------------------------------------------------------------------------------------------------------------------------------------------------------------------------------------------------------------------------------------------------------------------------------------------------------------------------------------------------------------------------------------------------------+-------------+------------------+\n",
      "|(2942,[0,6,7,8,9,10,11,12,13,14,15,16,17,18,19,20,22,23,24,25,26,27,28,29,30,31,33,34,35,36,37,38,39,40,41,42,43,44,45,46,47,48,49,50,51,52,53,54,55,56,57,58,59,60,61,62,63,64,65,66,67,68,69,70,71,72,73,74,75,76,77,78,79,80,81,82,83,84,85,86,87,88,89,90,91,92,93,94,95,96,97,98,99,100,101,102,103,104,105,106,107,108,109,110,111,112,113,114,115,116,117,118,119,120,121,122,124,125,126,127,128,129,130,131,132,133,134,135,136,137,138,139,140,141,142,143,144,145,146,147,148,149,150,151,152,153,154,155,156,157,158,159,160,161,162,163,164,165,166,167,168,169,171,172,173,174,175,176,177,178,179,180,183,184,185,186,187,188,189,190,191,192,193,194,195,196,197,198,199,200,201,202,203,204,206,207,209,210,211,212,213,214,215,216,217,218,219,220,221,222,223,224,225,226,227,228,229,230,231,232,233,234,235,236,237,238,239,240,241,242,243,244,245,246,247,248,250,251,253,254,255,256,260,261,262,263,265,267,269,270,271,272,273,274,277,278,280,284,285,287,288,291,294,297,298,299,300,307,308,309,310,311,313,314,316,318,323,325,329,333,334,336,342,346,347,351,354,362,363,367,384,385,393,397,398,436,522,533,720,747,802,1831,1868,2018,2271,2941],[1.0,1.0,1.0,1.0,1.0,1.0,1.0,1.0,1.0,1.0,1.0,1.0,1.0,1.0,1.0,1.0,1.0,1.0,1.0,1.0,1.0,1.0,1.0,1.0,1.0,1.0,1.0,1.0,1.0,1.0,1.0,1.0,1.0,1.0,1.0,1.0,1.0,1.0,1.0,1.0,1.0,1.0,1.0,1.0,1.0,1.0,1.0,1.0,1.0,1.0,1.0,1.0,1.0,1.0,1.0,1.0,1.0,1.0,1.0,1.0,1.0,1.0,1.0,1.0,1.0,1.0,1.0,1.0,1.0,1.0,1.0,1.0,1.0,1.0,1.0,1.0,1.0,1.0,1.0,1.0,1.0,1.0,1.0,1.0,1.0,1.0,1.0,1.0,1.0,1.0,1.0,1.0,1.0,1.0,1.0,1.0,1.0,1.0,1.0,1.0,1.0,1.0,1.0,1.0,1.0,1.0,1.0,1.0,1.0,1.0,1.0,1.0,1.0,1.0,1.0,1.0,1.0,1.0,1.0,1.0,1.0,1.0,1.0,1.0,1.0,1.0,1.0,1.0,1.0,1.0,1.0,1.0,1.0,1.0,1.0,1.0,1.0,1.0,1.0,1.0,1.0,1.0,1.0,1.0,1.0,1.0,1.0,1.0,1.0,1.0,1.0,1.0,1.0,1.0,1.0,1.0,1.0,1.0,1.0,1.0,1.0,1.0,1.0,1.0,1.0,1.0,1.0,1.0,1.0,1.0,1.0,1.0,1.0,1.0,1.0,1.0,1.0,1.0,1.0,1.0,1.0,1.0,1.0,1.0,1.0,1.0,1.0,1.0,1.0,1.0,1.0,1.0,1.0,1.0,1.0,1.0,1.0,1.0,1.0,1.0,1.0,1.0,1.0,1.0,1.0,1.0,1.0,1.0,1.0,1.0,1.0,1.0,1.0,1.0,1.0,1.0,1.0,1.0,1.0,1.0,1.0,1.0,1.0,1.0,1.0,1.0,1.0,1.0,1.0,1.0,1.0,1.0,1.0,1.0,1.0,1.0,1.0,1.0,1.0,1.0,1.0,1.0,1.0,1.0,1.0,1.0,1.0,1.0,1.0,1.0,1.0,1.0,1.0,1.0,1.0,1.0,1.0,1.0,1.0,1.0,1.0,1.0,1.0,1.0,1.0,1.0,1.0,1.0,1.0,1.0,1.0,1.0,1.0,1.0,1.0,1.0,1.0,1.0,1.0,1.0,1.0,1.0,1.0,1.0,1.0,1.0,1.0,1.0,1.0,1.0,1.0,1.0,1.0,1.0,1.0,1.0,1.0,1.0,1.0,1.0,1.0,1.0,1.0,1.0,1.0,1.0])                            |3            |11.561290273351876|\n",
      "|(2942,[0,6,7,8,9,10,11,12,13,14,15,16,17,18,19,20,22,23,24,25,26,27,28,29,30,31,33,34,35,36,37,38,39,40,41,42,43,44,45,46,47,48,49,50,51,52,53,54,55,56,57,58,59,60,61,62,63,64,65,66,67,68,69,70,71,72,73,74,75,76,77,78,79,80,81,82,83,84,85,86,87,88,89,90,91,92,93,94,95,96,97,98,99,100,101,102,103,104,105,106,107,108,109,110,111,112,113,114,115,116,117,118,119,120,121,122,124,125,126,127,128,129,130,131,132,133,134,135,136,137,138,139,140,141,142,143,144,145,146,147,148,149,150,151,152,153,154,155,156,157,158,159,160,161,162,163,164,165,166,167,168,169,171,172,173,174,175,176,177,178,179,180,183,184,185,186,187,188,189,190,191,192,193,194,195,196,197,198,199,200,201,202,203,204,206,207,209,210,211,212,213,214,215,216,217,218,219,220,221,222,223,224,225,226,227,228,229,230,231,232,233,234,235,236,237,238,239,240,241,242,243,244,245,246,247,248,250,251,253,254,255,256,260,261,262,263,265,267,269,270,271,272,273,274,277,278,280,284,285,287,288,291,294,297,298,299,300,307,308,309,310,311,313,314,316,318,323,325,329,333,334,336,342,346,347,351,354,362,363,367,384,385,393,397,398,436,522,533,720,747,802,1831,1868,2018,2271,2941],[1.0,1.0,1.0,1.0,1.0,1.0,1.0,1.0,1.0,1.0,1.0,1.0,1.0,1.0,1.0,1.0,1.0,1.0,1.0,1.0,1.0,1.0,1.0,1.0,1.0,1.0,1.0,1.0,1.0,1.0,1.0,1.0,1.0,1.0,1.0,1.0,1.0,1.0,1.0,1.0,1.0,1.0,1.0,1.0,1.0,1.0,1.0,1.0,1.0,1.0,1.0,1.0,1.0,1.0,1.0,1.0,1.0,1.0,1.0,1.0,1.0,1.0,1.0,1.0,1.0,1.0,1.0,1.0,1.0,1.0,1.0,1.0,1.0,1.0,1.0,1.0,1.0,1.0,1.0,1.0,1.0,1.0,1.0,1.0,1.0,1.0,1.0,1.0,1.0,1.0,1.0,1.0,1.0,1.0,1.0,1.0,1.0,1.0,1.0,1.0,1.0,1.0,1.0,1.0,1.0,1.0,1.0,1.0,1.0,1.0,1.0,1.0,1.0,1.0,1.0,1.0,1.0,1.0,1.0,1.0,1.0,1.0,1.0,1.0,1.0,1.0,1.0,1.0,1.0,1.0,1.0,1.0,1.0,1.0,1.0,1.0,1.0,1.0,1.0,1.0,1.0,1.0,1.0,1.0,1.0,1.0,1.0,1.0,1.0,1.0,1.0,1.0,1.0,1.0,1.0,1.0,1.0,1.0,1.0,1.0,1.0,1.0,1.0,1.0,1.0,1.0,1.0,1.0,1.0,1.0,1.0,1.0,1.0,1.0,1.0,1.0,1.0,1.0,1.0,1.0,1.0,1.0,1.0,1.0,1.0,1.0,1.0,1.0,1.0,1.0,1.0,1.0,1.0,1.0,1.0,1.0,1.0,1.0,1.0,1.0,1.0,1.0,1.0,1.0,1.0,1.0,1.0,1.0,1.0,1.0,1.0,1.0,1.0,1.0,1.0,1.0,1.0,1.0,1.0,1.0,1.0,1.0,1.0,1.0,1.0,1.0,1.0,1.0,1.0,1.0,1.0,1.0,1.0,1.0,1.0,1.0,1.0,1.0,1.0,1.0,1.0,1.0,1.0,1.0,1.0,1.0,1.0,1.0,1.0,1.0,1.0,1.0,1.0,1.0,1.0,1.0,1.0,1.0,1.0,1.0,1.0,1.0,1.0,1.0,1.0,1.0,1.0,1.0,1.0,1.0,1.0,1.0,1.0,1.0,1.0,1.0,1.0,1.0,1.0,1.0,1.0,1.0,1.0,1.0,1.0,1.0,1.0,1.0,1.0,1.0,1.0,1.0,1.0,1.0,1.0,1.0,1.0,1.0,1.0,1.0,1.0,1.0,1.0,1.0,1.0,1.0])                            |3            |11.561290273351876|\n",
      "|(2942,[0,6,7,8,9,10,11,12,13,14,15,16,17,18,19,20,22,23,24,25,26,27,28,29,30,31,33,34,35,36,37,38,39,40,41,42,43,44,45,46,47,48,49,50,51,52,53,54,55,56,57,58,59,60,61,62,63,64,65,66,67,68,69,70,71,72,73,74,75,76,77,78,79,80,81,82,83,84,85,86,87,88,89,90,91,92,93,94,95,96,97,98,99,100,101,102,103,104,105,106,107,108,109,110,111,112,113,114,115,116,117,118,119,120,121,122,124,125,126,127,128,129,130,131,132,133,134,135,136,137,138,139,140,141,142,143,144,145,146,147,148,149,150,151,152,153,154,155,156,157,158,159,160,161,162,163,164,165,166,167,168,169,171,172,173,174,175,176,177,178,179,180,183,184,185,186,187,188,189,190,191,192,193,194,195,196,197,198,199,200,201,202,203,204,206,207,209,210,211,212,213,214,215,216,217,218,219,220,221,222,223,224,225,226,227,228,229,230,231,232,233,234,235,236,237,238,239,240,241,242,243,244,245,246,247,248,250,251,253,254,255,256,260,261,262,263,265,267,269,270,271,272,273,274,277,278,280,284,285,287,288,291,294,297,298,299,300,307,308,309,310,311,313,314,316,318,323,325,329,333,334,336,342,346,347,351,354,362,363,367,384,385,393,397,398,436,522,533,720,747,802,1831,1868,2018,2271,2941],[1.0,1.0,1.0,1.0,1.0,1.0,1.0,1.0,1.0,1.0,1.0,1.0,1.0,1.0,1.0,1.0,1.0,1.0,1.0,1.0,1.0,1.0,1.0,1.0,1.0,1.0,1.0,1.0,1.0,1.0,1.0,1.0,1.0,1.0,1.0,1.0,1.0,1.0,1.0,1.0,1.0,1.0,1.0,1.0,1.0,1.0,1.0,1.0,1.0,1.0,1.0,1.0,1.0,1.0,1.0,1.0,1.0,1.0,1.0,1.0,1.0,1.0,1.0,1.0,1.0,1.0,1.0,1.0,1.0,1.0,1.0,1.0,1.0,1.0,1.0,1.0,1.0,1.0,1.0,1.0,1.0,1.0,1.0,1.0,1.0,1.0,1.0,1.0,1.0,1.0,1.0,1.0,1.0,1.0,1.0,1.0,1.0,1.0,1.0,1.0,1.0,1.0,1.0,1.0,1.0,1.0,1.0,1.0,1.0,1.0,1.0,1.0,1.0,1.0,1.0,1.0,1.0,1.0,1.0,1.0,1.0,1.0,1.0,1.0,1.0,1.0,1.0,1.0,1.0,1.0,1.0,1.0,1.0,1.0,1.0,1.0,1.0,1.0,1.0,1.0,1.0,1.0,1.0,1.0,1.0,1.0,1.0,1.0,1.0,1.0,1.0,1.0,1.0,1.0,1.0,1.0,1.0,1.0,1.0,1.0,1.0,1.0,1.0,1.0,1.0,1.0,1.0,1.0,1.0,1.0,1.0,1.0,1.0,1.0,1.0,1.0,1.0,1.0,1.0,1.0,1.0,1.0,1.0,1.0,1.0,1.0,1.0,1.0,1.0,1.0,1.0,1.0,1.0,1.0,1.0,1.0,1.0,1.0,1.0,1.0,1.0,1.0,1.0,1.0,1.0,1.0,1.0,1.0,1.0,1.0,1.0,1.0,1.0,1.0,1.0,1.0,1.0,1.0,1.0,1.0,1.0,1.0,1.0,1.0,1.0,1.0,1.0,1.0,1.0,1.0,1.0,1.0,1.0,1.0,1.0,1.0,1.0,1.0,1.0,1.0,1.0,1.0,1.0,1.0,1.0,1.0,1.0,1.0,1.0,1.0,1.0,1.0,1.0,1.0,1.0,1.0,1.0,1.0,1.0,1.0,1.0,1.0,1.0,1.0,1.0,1.0,1.0,1.0,1.0,1.0,1.0,1.0,1.0,1.0,1.0,1.0,1.0,1.0,1.0,1.0,1.0,1.0,1.0,1.0,1.0,1.0,1.0,1.0,1.0,1.0,1.0,1.0,1.0,1.0,1.0,1.0,1.0,1.0,1.0,1.0,1.0,1.0,1.0,1.0,1.0,1.0])                            |4            |11.561290273351876|\n",
      "|(2942,[0,6,7,8,9,10,11,12,13,14,15,16,17,18,19,20,22,23,24,25,26,27,28,29,30,31,33,34,35,36,37,38,39,40,41,42,43,44,45,46,47,48,49,50,51,52,53,54,55,56,57,58,59,60,61,62,63,64,65,66,67,68,69,70,71,72,73,74,75,76,77,78,79,80,81,82,83,84,85,86,87,88,89,90,91,92,93,94,95,96,97,98,99,100,101,102,103,104,105,106,107,108,109,110,111,112,113,114,115,116,117,118,119,120,121,122,124,125,126,127,128,129,130,131,132,133,134,135,136,137,138,139,140,141,142,143,144,145,146,147,148,149,150,151,152,153,154,155,156,157,158,159,160,161,162,163,164,165,166,167,168,169,171,172,173,174,175,176,177,178,179,180,183,184,185,186,187,188,189,190,191,192,193,194,195,196,197,198,199,200,201,202,203,204,206,207,209,210,211,212,213,214,215,216,217,218,219,220,221,222,223,224,225,226,227,228,229,230,231,232,233,234,235,236,237,238,239,240,241,242,243,244,245,246,247,248,250,251,253,254,255,256,260,261,262,263,265,267,269,270,271,272,273,274,277,278,280,284,285,287,288,291,294,297,298,299,300,307,308,309,310,311,313,314,316,318,323,325,329,333,334,336,342,346,347,351,354,362,363,367,384,385,393,397,398,436,522,533,720,747,802,1831,1868,2018,2271,2941],[1.0,1.0,1.0,1.0,1.0,1.0,1.0,1.0,1.0,1.0,1.0,1.0,1.0,1.0,1.0,1.0,1.0,1.0,1.0,1.0,1.0,1.0,1.0,1.0,1.0,1.0,1.0,1.0,1.0,1.0,1.0,1.0,1.0,1.0,1.0,1.0,1.0,1.0,1.0,1.0,1.0,1.0,1.0,1.0,1.0,1.0,1.0,1.0,1.0,1.0,1.0,1.0,1.0,1.0,1.0,1.0,1.0,1.0,1.0,1.0,1.0,1.0,1.0,1.0,1.0,1.0,1.0,1.0,1.0,1.0,1.0,1.0,1.0,1.0,1.0,1.0,1.0,1.0,1.0,1.0,1.0,1.0,1.0,1.0,1.0,1.0,1.0,1.0,1.0,1.0,1.0,1.0,1.0,1.0,1.0,1.0,1.0,1.0,1.0,1.0,1.0,1.0,1.0,1.0,1.0,1.0,1.0,1.0,1.0,1.0,1.0,1.0,1.0,1.0,1.0,1.0,1.0,1.0,1.0,1.0,1.0,1.0,1.0,1.0,1.0,1.0,1.0,1.0,1.0,1.0,1.0,1.0,1.0,1.0,1.0,1.0,1.0,1.0,1.0,1.0,1.0,1.0,1.0,1.0,1.0,1.0,1.0,1.0,1.0,1.0,1.0,1.0,1.0,1.0,1.0,1.0,1.0,1.0,1.0,1.0,1.0,1.0,1.0,1.0,1.0,1.0,1.0,1.0,1.0,1.0,1.0,1.0,1.0,1.0,1.0,1.0,1.0,1.0,1.0,1.0,1.0,1.0,1.0,1.0,1.0,1.0,1.0,1.0,1.0,1.0,1.0,1.0,1.0,1.0,1.0,1.0,1.0,1.0,1.0,1.0,1.0,1.0,1.0,1.0,1.0,1.0,1.0,1.0,1.0,1.0,1.0,1.0,1.0,1.0,1.0,1.0,1.0,1.0,1.0,1.0,1.0,1.0,1.0,1.0,1.0,1.0,1.0,1.0,1.0,1.0,1.0,1.0,1.0,1.0,1.0,1.0,1.0,1.0,1.0,1.0,1.0,1.0,1.0,1.0,1.0,1.0,1.0,1.0,1.0,1.0,1.0,1.0,1.0,1.0,1.0,1.0,1.0,1.0,1.0,1.0,1.0,1.0,1.0,1.0,1.0,1.0,1.0,1.0,1.0,1.0,1.0,1.0,1.0,1.0,1.0,1.0,1.0,1.0,1.0,1.0,1.0,1.0,1.0,1.0,1.0,1.0,1.0,1.0,1.0,1.0,1.0,1.0,1.0,1.0,1.0,1.0,1.0,1.0,1.0,1.0,1.0,1.0,1.0,1.0,1.0,1.0])                            |10           |11.561290273351876|\n",
      "|(2942,[0,6,7,8,9,10,11,12,13,14,15,16,17,18,19,20,22,23,24,25,26,27,28,29,30,31,33,34,35,36,37,38,39,40,41,42,43,44,45,46,47,48,49,50,51,52,53,54,55,56,57,58,59,60,61,62,63,64,65,66,67,68,69,70,71,72,73,74,75,76,77,78,79,80,81,82,83,84,85,86,87,88,89,90,91,92,93,94,95,96,97,98,99,100,101,102,103,104,105,106,107,108,109,110,111,112,113,114,115,116,117,118,119,120,121,122,124,125,126,127,128,129,130,131,132,133,134,135,136,137,138,139,140,141,142,143,144,145,146,147,148,149,150,151,152,153,154,155,156,157,158,159,160,161,162,163,164,165,166,167,168,169,171,172,173,174,175,176,177,178,179,180,183,184,185,186,187,188,189,190,191,192,193,194,195,196,197,198,199,200,201,202,203,204,206,207,209,210,211,212,213,214,215,216,217,218,219,220,221,222,223,224,225,226,227,228,229,230,231,232,233,234,235,236,237,238,239,240,241,242,243,244,245,246,247,248,250,251,253,254,255,256,260,261,262,263,265,267,269,270,271,272,273,274,277,278,284,285,287,288,297,298,299,300,307,308,309,310,311,313,316,318,323,324,325,329,333,334,336,342,346,347,351,354,362,363,367,385,397,398,402,405,436,664,717,720,788,802,939,949,1064,1162,1403,1417,1797,1837,1996,2278,2941],[1.0,1.0,1.0,1.0,1.0,1.0,1.0,1.0,1.0,1.0,1.0,1.0,1.0,1.0,1.0,1.0,1.0,1.0,1.0,1.0,1.0,1.0,1.0,1.0,1.0,1.0,1.0,1.0,1.0,1.0,1.0,1.0,1.0,1.0,1.0,1.0,1.0,1.0,1.0,1.0,1.0,1.0,1.0,1.0,1.0,1.0,1.0,1.0,1.0,1.0,1.0,1.0,1.0,1.0,1.0,1.0,1.0,1.0,1.0,1.0,1.0,1.0,1.0,1.0,1.0,1.0,1.0,1.0,1.0,1.0,1.0,1.0,1.0,1.0,1.0,1.0,1.0,1.0,1.0,1.0,1.0,1.0,1.0,1.0,1.0,1.0,1.0,1.0,1.0,1.0,1.0,1.0,1.0,1.0,1.0,1.0,1.0,1.0,1.0,1.0,1.0,1.0,1.0,1.0,1.0,1.0,1.0,1.0,1.0,1.0,1.0,1.0,1.0,1.0,1.0,1.0,1.0,1.0,1.0,1.0,1.0,1.0,1.0,1.0,1.0,1.0,1.0,1.0,1.0,1.0,1.0,1.0,1.0,1.0,1.0,1.0,1.0,1.0,1.0,1.0,1.0,1.0,1.0,1.0,1.0,1.0,1.0,1.0,1.0,1.0,1.0,1.0,1.0,1.0,1.0,1.0,1.0,1.0,1.0,1.0,1.0,1.0,1.0,1.0,1.0,1.0,1.0,1.0,1.0,1.0,1.0,1.0,1.0,1.0,1.0,1.0,1.0,1.0,1.0,1.0,1.0,1.0,1.0,1.0,1.0,1.0,1.0,1.0,1.0,1.0,1.0,1.0,1.0,1.0,1.0,1.0,1.0,1.0,1.0,1.0,1.0,1.0,1.0,1.0,1.0,1.0,1.0,1.0,1.0,1.0,1.0,1.0,1.0,1.0,1.0,1.0,1.0,1.0,1.0,1.0,1.0,1.0,1.0,1.0,1.0,1.0,1.0,1.0,1.0,1.0,1.0,1.0,1.0,1.0,1.0,1.0,1.0,1.0,1.0,1.0,1.0,1.0,1.0,1.0,1.0,1.0,1.0,1.0,1.0,1.0,1.0,1.0,1.0,1.0,1.0,1.0,1.0,1.0,1.0,1.0,1.0,1.0,1.0,1.0,1.0,1.0,1.0,1.0,1.0,1.0,1.0,1.0,1.0,1.0,1.0,1.0,1.0,1.0,1.0,1.0,1.0,1.0,1.0,1.0,1.0,1.0,1.0,1.0,1.0,1.0,1.0,1.0,1.0,1.0,1.0,1.0,1.0,1.0,1.0,1.0,1.0,1.0,1.0,1.0,1.0,1.0,1.0,1.0,1.0])|13           |7.854943718884332 |\n",
      "|(2942,[0,6,7,8,9,10,11,12,13,14,15,16,17,18,19,20,22,23,24,25,26,27,28,29,30,31,33,34,35,36,37,38,39,40,41,42,43,44,45,46,47,48,49,50,51,52,53,54,55,56,57,58,59,60,61,63,64,65,66,67,68,69,70,71,72,73,74,75,76,77,78,79,80,81,82,83,84,85,86,87,88,89,90,91,92,93,94,95,96,97,98,99,100,101,102,103,104,105,106,107,108,109,110,111,112,113,114,115,116,117,118,119,120,121,122,124,125,126,127,128,129,130,131,132,133,134,135,136,137,138,139,140,141,142,143,144,145,146,147,148,149,150,151,152,153,154,155,156,157,158,159,160,161,162,163,164,165,166,167,168,169,171,172,173,175,179,180,183,184,185,186,187,189,190,191,192,193,194,195,196,197,198,199,200,201,202,207,209,210,211,212,213,214,215,216,217,218,219,220,221,222,223,224,225,226,227,228,229,230,231,233,235,236,239,240,246,250,251,254,255,261,262,263,265,270,278,291,294,298,329,342,346,362,384,402,555,717,788,1137,1152,1714,1832,1863,2018,2839,2941],[1.0,1.0,1.0,1.0,1.0,1.0,1.0,1.0,1.0,1.0,1.0,1.0,1.0,1.0,1.0,1.0,1.0,1.0,1.0,1.0,1.0,1.0,1.0,1.0,1.0,1.0,1.0,1.0,1.0,1.0,1.0,1.0,1.0,1.0,1.0,1.0,1.0,1.0,1.0,1.0,1.0,1.0,1.0,1.0,1.0,1.0,1.0,1.0,1.0,1.0,1.0,1.0,1.0,1.0,1.0,1.0,1.0,1.0,1.0,1.0,1.0,1.0,1.0,1.0,1.0,1.0,1.0,1.0,1.0,1.0,1.0,1.0,1.0,1.0,1.0,1.0,1.0,1.0,1.0,1.0,1.0,1.0,1.0,1.0,1.0,1.0,1.0,1.0,1.0,1.0,1.0,1.0,1.0,1.0,1.0,1.0,1.0,1.0,1.0,1.0,1.0,1.0,1.0,1.0,1.0,1.0,1.0,1.0,1.0,1.0,1.0,1.0,1.0,1.0,1.0,1.0,1.0,1.0,1.0,1.0,1.0,1.0,1.0,1.0,1.0,1.0,1.0,1.0,1.0,1.0,1.0,1.0,1.0,1.0,1.0,1.0,1.0,1.0,1.0,1.0,1.0,1.0,1.0,1.0,1.0,1.0,1.0,1.0,1.0,1.0,1.0,1.0,1.0,1.0,1.0,1.0,1.0,1.0,1.0,1.0,1.0,1.0,1.0,1.0,1.0,1.0,1.0,1.0,1.0,1.0,1.0,1.0,1.0,1.0,1.0,1.0,1.0,1.0,1.0,1.0,1.0,1.0,1.0,1.0,1.0,1.0,1.0,1.0,1.0,1.0,1.0,1.0,1.0,1.0,1.0,1.0,1.0,1.0,1.0,1.0,1.0,1.0,1.0,1.0,1.0,1.0,1.0,1.0,1.0,1.0,1.0,1.0,1.0,1.0,1.0,1.0,1.0,1.0,1.0,1.0,1.0,1.0,1.0,1.0,1.0,1.0,1.0,1.0,1.0,1.0,1.0,1.0,1.0,1.0,1.0,1.0,1.0,1.0,1.0,1.0,1.0,1.0,1.0,1.0,1.0,1.0])                                                                                                                                                                                                                                                                                                                                                                                                                                                                                                                        |15           |7.615176897914161 |\n",
      "|(2942,[0,3,268,276,2033,2056,2619,2941],[1.0,1.0,1.0,1.0,1.0,1.0,1.0,1.0])                                                                                                                                                                                                                                                                                                                                                                                                                                                                                                                                                                                                                                                                                                                                                                                                                                                                                                                                                                                                                                                                                                                                                                                                                                                                                                                                                                                                                                                                                                                                                                                                                                                                                                                                                                                                                                                                                                                                                                                                                                                                                                                                                                                                                                                                                                                                                                                                               |5            |7.4214703242321685|\n",
      "|(2942,[0,181,257,279,296,1505,1996,2011,2410,2941],[1.0,1.0,1.0,1.0,1.0,1.0,1.0,1.0,1.0,1.0])                                                                                                                                                                                                                                                                                                                                                                                                                                                                                                                                                                                                                                                                                                                                                                                                                                                                                                                                                                                                                                                                                                                                                                                                                                                                                                                                                                                                                                                                                                                                                                                                                                                                                                                                                                                                                                                                                                                                                                                                                                                                                                                                                                                                                                                                                                                                                                                            |1            |7.295007059286617 |\n",
      "|(2942,[0,181,257,279,296,1505,1996,2011,2410,2941],[1.0,1.0,1.0,1.0,1.0,1.0,1.0,1.0,1.0,1.0])                                                                                                                                                                                                                                                                                                                                                                                                                                                                                                                                                                                                                                                                                                                                                                                                                                                                                                                                                                                                                                                                                                                                                                                                                                                                                                                                                                                                                                                                                                                                                                                                                                                                                                                                                                                                                                                                                                                                                                                                                                                                                                                                                                                                                                                                                                                                                                                            |1            |7.295007059286617 |\n",
      "|(2942,[0,337,2029,2056,2742,2941],[1.0,1.0,1.0,1.0,1.0,1.0])                                                                                                                                                                                                                                                                                                                                                                                                                                                                                                                                                                                                                                                                                                                                                                                                                                                                                                                                                                                                                                                                                                                                                                                                                                                                                                                                                                                                                                                                                                                                                                                                                                                                                                                                                                                                                                                                                                                                                                                                                                                                                                                                                                                                                                                                                                                                                                                                                             |7            |7.175165730754987 |\n",
      "+-----------------------------------------------------------------------------------------------------------------------------------------------------------------------------------------------------------------------------------------------------------------------------------------------------------------------------------------------------------------------------------------------------------------------------------------------------------------------------------------------------------------------------------------------------------------------------------------------------------------------------------------------------------------------------------------------------------------------------------------------------------------------------------------------------------------------------------------------------------------------------------------------------------------------------------------------------------------------------------------------------------------------------------------------------------------------------------------------------------------------------------------------------------------------------------------------------------------------------------------------------------------------------------------------------------------------------------------------------------------------------------------------------------------------------------------------------------------------------------------------------------------------------------------------------------------------------------------------------------------------------------------------------------------------------------------------------------------------------------------------------------------------------------------------------------------------------------------------------------------------------------------------------------------------------------------------------------------------------------------------------------------------------------------------------------------------------------------------------------------------------------------------------------------------------------------------------------------------------------------------------------------------------------------------------------------------------------------------------------------------------------------------------------------------------------------------------------------------------------------+-------------+------------------+\n",
      "only showing top 10 rows\n",
      "\n"
     ]
    }
   ],
   "source": [
    "# predictions.orderBy(\"prediction\", ascending=False).show(10, False)\n",
    "\n",
    "# train_data.filter(col('citedby_count').isNull() | col('features').isNull()).show(10, False)\n",
    "\n",
    "# predictions.describe().show()"
   ]
  },
  {
   "cell_type": "code",
   "execution_count": null,
   "metadata": {},
   "outputs": [],
   "source": [
    "output_file = \"./output/Citedby_Prediction_Data.csv\"  # Replace with your desired output path\n",
    "# Save the extracted data to CSV\n",
    "try:\n",
    "    predictions.select('citedby_count', 'prediction').coalesce(1).write.option(\"header\", True).mode('overwrite').csv(output_file)\n",
    "    print(\"Data extraction complete! Check the output folder.\")\n",
    "except Exception as e:\n",
    "    print(f\"Error: {e}\")"
   ]
  }
 ],
 "metadata": {
  "kernelspec": {
   "display_name": "examver",
   "language": "python",
   "name": "python3"
  },
  "language_info": {
   "codemirror_mode": {
    "name": "ipython",
    "version": 3
   },
   "file_extension": ".py",
   "mimetype": "text/x-python",
   "name": "python",
   "nbconvert_exporter": "python",
   "pygments_lexer": "ipython3",
   "version": "3.11.10"
  }
 },
 "nbformat": 4,
 "nbformat_minor": 2
}
