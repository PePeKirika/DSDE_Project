{
 "cells": [
  {
   "cell_type": "code",
   "execution_count": 1,
   "metadata": {},
   "outputs": [],
   "source": [
    "from pyspark.sql import SparkSession ,  Row , SQLContext \n",
    "from pyspark.sql.functions import col,concat_ws, expr, explode, lit, when, from_json , StructType, StringType, to_json, udf, regexp_extract, count, sum, first, collect_list\n",
    "from pyspark.sql.types import StructType, StructField, StringType, ArrayType, IntegerType\n",
    "from pyspark.ml.feature import StringIndexer, OneHotEncoder, VectorAssembler, CountVectorizer\n",
    "from pyspark.ml import Pipeline\n",
    "from pyspark.ml.regression import RandomForestRegressor, GBTRegressor\n",
    "from pyspark.ml.evaluation import RegressionEvaluator\n",
    "from pyspark.ml.tuning import ParamGridBuilder, CrossValidator\n",
    "import requests\n",
    "import json\n",
    "import os"
   ]
  },
  {
   "cell_type": "code",
   "execution_count": 2,
   "metadata": {},
   "outputs": [],
   "source": [
    "spark = SparkSession.builder\\\n",
    "        .master(\"local[*]\") \\\n",
    "        .appName('Data Engineer Data Science Component')\\\n",
    "        .config('spark.ui.port', '4040')\\\n",
    "        .config(\"spark.executor.memory\", \"4g\") \\\n",
    "        .getOrCreate()\n",
    "\n",
    "# spark = SparkSession.builder\\\n",
    "#         .master(\"local\") \\\n",
    "#         .appName('Data Engineer Data Science Component')\\\n",
    "#         .getOrCreate()"
   ]
  },
  {
   "cell_type": "markdown",
   "metadata": {},
   "source": [
    "Fetch More article from Scopus"
   ]
  },
  {
   "cell_type": "code",
   "execution_count": null,
   "metadata": {},
   "outputs": [],
   "source": [
    "# Define your Scopus Search API endpoint\n",
    "search_base_url = \"https://api.elsevier.com/content/search/scopus\"\n",
    "abstract_doi_url = \"https://api.elsevier.com/content/abstract/doi/\"\n",
    "abstract_scopus_url = \"https://api.elsevier.com/content/abstract/scopus_id/\"\n",
    "abstract_eid_url = \"https://api.elsevier.com/content/abstract/eid/\"\n",
    "\n",
    "# Your API Key\n",
    "api_key = \"01d58db39c61dd0939ce840a1321fbc0\"\n",
    "\n",
    "# Query for searching articles\n",
    "search_query = \"TITLE-ABS-KEY(chulalongkorn) AND (PUBYEAR < 2018 OR PUBYEAR > 2023)\"\n",
    "\n",
    "# Headers for authentication\n",
    "headers = {\n",
    "    \"X-ELS-APIKey\": api_key,\n",
    "    \"Accept\": \"application/json\"\n",
    "}\n",
    "\n",
    "# Parameters for Scopus search\n",
    "search_params = {\n",
    "    \"query\": search_query,\n",
    "    \"count\": 1,  # Fetch only 1 result per page\n",
    "}\n",
    "\n",
    "# Create the 'additional_file' folder if it doesn't exist\n",
    "output_folder = \"./Raw_data/Additional_Data\"\n",
    "os.makedirs(output_folder, exist_ok=True)\n",
    "\n",
    "# Maximum number of results to fetch\n",
    "max_results = 1000  # Adjust as needed\n",
    "total_results = 0\n",
    "travelled = 0\n",
    "\n",
    "# Fetch results one at a time\n",
    "while total_results < max_results:\n",
    "    search_params['start'] = travelled  # Increment by 1 for each article\n",
    "    \n",
    "    # Send the request for the current article\n",
    "    search_response = requests.get(search_base_url, headers=headers, params=search_params)\n",
    "    \n",
    "    if search_response.status_code == 200:\n",
    "        search_data = search_response.json()\n",
    "        entries = search_data.get(\"search-results\", {}).get(\"entry\", [])\n",
    "        \n",
    "        if not entries:\n",
    "            print(f\"No more articles found after {total_results} results.\")\n",
    "            break\n",
    "        \n",
    "        # Extract the DOI and fetch details for the article\n",
    "        result = entries[0]  # Since count=1, there is only one entry\n",
    "        doi = result.get(\"prism:doi\")\n",
    "        scopus_id = result.get(\"dc:identifier\")\n",
    "        eid = result.get(\"eid\")\n",
    "        \n",
    "        if doi:\n",
    "            # Retrieve metadata for the article\n",
    "            abstract_url = f\"{abstract_doi_url}{doi}\"\n",
    "            abstract_response = requests.get(abstract_url, headers=headers)\n",
    "            \n",
    "            if abstract_response.status_code == 200:\n",
    "                article_data = abstract_response.json()\n",
    "                \n",
    "                # Save the article's data as a separate JSON file\n",
    "                file_path = os.path.join(output_folder, f\"article_{travelled + 1}.json\")\n",
    "                with open(file_path, \"w\", encoding=\"utf-8\") as json_file:\n",
    "                    json.dump(article_data, json_file, ensure_ascii=False, indent=4)\n",
    "                    \n",
    "                total_results += 1\n",
    "            else:\n",
    "                print(f\"Failed to retrieve metadata for DOI {doi}: {abstract_response.status_code}\")\n",
    "                \n",
    "        elif scopus_id:\n",
    "            # Retrieve metadata for the article\n",
    "            abstract_url = f\"{abstract_scopus_url}{scopus_id}\"\n",
    "            abstract_response = requests.get(abstract_url, headers=headers)\n",
    "            \n",
    "            if abstract_response.status_code == 200:\n",
    "                article_data = abstract_response.json()\n",
    "                \n",
    "                # Save the article's data as a separate JSON file\n",
    "                file_path = os.path.join(output_folder, f\"article_{travelled + 1}.json\")\n",
    "                with open(file_path, \"w\", encoding=\"utf-8\") as json_file:\n",
    "                    json.dump(article_data, json_file, ensure_ascii=False, indent=4)\n",
    "                    \n",
    "                total_results += 1\n",
    "            else:\n",
    "                print(f\"Failed to retrieve metadata for Scopus ID {scopus_id}: {abstract_response.status_code}\")\n",
    "        elif eid:\n",
    "            # Retrieve metadata for the article\n",
    "            abstract_url = f\"{abstract_eid_url}{eid}\"\n",
    "            abstract_response = requests.get(abstract_url, headers=headers)\n",
    "            \n",
    "            if abstract_response.status_code == 200:\n",
    "                article_data = abstract_response.json()\n",
    "                \n",
    "                # Save the article's data as a separate JSON file\n",
    "                file_path = os.path.join(output_folder, f\"article_{travelled + 1}.json\")\n",
    "                with open(file_path, \"w\", encoding=\"utf-8\") as json_file:\n",
    "                    json.dump(article_data, json_file, ensure_ascii=False, indent=4)\n",
    "                    \n",
    "                total_results += 1\n",
    "            else:\n",
    "                print(f\"Failed to retrieve metadata for EID {eid}: {abstract_response.status_code}\")\n",
    "        else:\n",
    "            print(f\"No DOI found for article {travelled + 1}. Skipping.\")\n",
    "    else:\n",
    "        print(f\"Failed to retrieve data for article {travelled + 1}: {search_response.status_code}\")\n",
    "        break\n",
    "    travelled += 1\n",
    "\n",
    "print(f\"All data has been saved to the '{output_folder}' folder. Fetched a total of {total_results} articles.\")\n"
   ]
  },
  {
   "cell_type": "markdown",
   "metadata": {},
   "source": [
    "Read all json"
   ]
  },
  {
   "cell_type": "code",
   "execution_count": 3,
   "metadata": {},
   "outputs": [],
   "source": [
    "base_dir = \"./Raw_data\"  # Replace with your directory path\n",
    "base_dir = './test'\n",
    "\n",
    "df = spark.read.option(\"multiline\", True).option(\"recursiveFileLookup\", True).json(base_dir)"
   ]
  },
  {
   "cell_type": "code",
   "execution_count": 10,
   "metadata": {},
   "outputs": [],
   "source": [
    "# Adjusted column selection\n",
    "base_data_selected_columns = [\n",
    "    #normal columns\n",
    "    col(\"abstracts-retrieval-response.language.@xml:lang\").alias(\"language\"), #\n",
    "    col(\"abstracts-retrieval-response.coredata.srctype\").alias(\"source_type\"),\n",
    "    col(\"abstracts-retrieval-response.coredata.prism:doi\").alias(\"prism:doi\"),\n",
    "    col(\"abstracts-retrieval-response.coredata.prism:coverDate\").alias(\"cover_date\"),\n",
    "    col(\"abstracts-retrieval-response.coredata.prism:aggregationType\").alias(\"aggregation_type\"),\n",
    "    col(\"abstracts-retrieval-response.coredata.source-id\").alias(\"source_id\"),\n",
    "    col(\"abstracts-retrieval-response.coredata.citedby-count\").alias(\"citedby_count\"),\n",
    "    col(\"abstracts-retrieval-response.coredata.prism:volume\").alias(\"volume\"),\n",
    "    col(\"abstracts-retrieval-response.coredata.subtype\").alias(\"subtype\"),\n",
    "    col(\"abstracts-retrieval-response.coredata.dc:title\").alias(\"title\"),\n",
    "    col(\"abstracts-retrieval-response.coredata.prism:issueIdentifier\").alias(\"issue_identifier\"),\n",
    "    col(\"abstracts-retrieval-response.coredata.subtypeDescription\").alias(\"subtype_description\"),\n",
    "    col(\"abstracts-retrieval-response.coredata.prism:publicationName\").alias(\"publication_name\"),\n",
    "    col(\"abstracts-retrieval-response.coredata.prism:startingPage\").alias(\"starting_page\"),\n",
    "    col(\"abstracts-retrieval-response.coredata.prism:endingPage\").alias(\"ending_page\"),\n",
    "    col(\"abstracts-retrieval-response.coredata.dc:identifier\").alias(\"identifier\"),\n",
    "    col(\"abstracts-retrieval-response.coredata.dc:publisher\").alias(\"publisher\"),\n",
    "\n",
    "    #array columns\n",
    "    col(\"abstracts-retrieval-response.coredata.dc:creator.author\").alias(\"authors\"),\n",
    "    col(\"abstracts-retrieval-response.affiliation\").alias(\"affiliation\"),\n",
    "    col(\"abstracts-retrieval-response.subject-areas.subject-area\").alias(\"subject_area\"), #\n",
    "    col(\"abstracts-retrieval-response.authkeywords.author-keyword\").alias(\"authkeyword\"), #\n",
    "    col(\"abstracts-retrieval-response.idxterms.mainterm\").alias(\"idxterm\"), #\n",
    "    col(\"abstracts-retrieval-response.item.bibrecord.tail.bibliography.reference\").alias(\"reference_itemid\"), #\n",
    "    col(\"abstracts-retrieval-response.item.bibrecord.item-info.itemidlist.itemid\").alias(\"itemid\"), #\n",
    "\n",
    "    \n",
    "    # col(\"abstracts-retrieval-response.authors.author[0].preferred-name.ce:given-name\").alias(\"author_given_name\"),\n",
    "    # col(\"abstracts-retrieval-response.authors.author[0].preferred-name.ce:indexed-name\").alias(\"author_indexed_name\"),\n",
    "    # col(\"abstracts-retrieval-response.authors.author[0].ce:degrees\").alias(\"author_degrees\"),\n",
    "    # col(\"abstracts-retrieval-response.authors.author[0].@_fa\").alias(\"author_fa\"),\n",
    "    # col(\"abstracts-retrieval-response.authors.author[0].@auid\").alias(\"author_auid\"),\n",
    "    \n",
    "    # col(\"abstracts-retrieval-response.subject-areas.subject-area[0].@_fa\").alias(\"subject_area_fa\"),\n",
    "    # col(\"abstracts-retrieval-response.subject-areas.subject-area[0].$\").alias(\"subject_area_name\"),\n",
    "    # col(\"abstracts-retrieval-response.subject-areas.subject-area[0].@code\").alias(\"subject_area_code\"),\n",
    "    # col(\"abstracts-retrieval-response.subject-areas.subject-area[0].@abbrev\").alias(\"subject_area_abbrev\"),\n",
    "    \n",
    "    # col(\"abstracts-retrieval-response.authkeywords.author-keyword[0].@_fa\").alias(\"authkeyword_fa\"),\n",
    "    # col(\"abstracts-retrieval-response.authkeywords.author-keyword[0].$\").alias(\"authkeyword\"),\n",
    "    \n",
    "    # col(\"abstracts-retrieval-response.idxterms.mainterm[0].$\").alias(\"idxterm\"),\n",
    "    # col(\"abstracts-retrieval-response.idxterms.mainterm[0].@weight\").alias(\"idxterm_weight\"),\n",
    "    # col(\"abstracts-retrieval-response.idxterms.mainterm[0].@candidate\").alias(\"idxterm_candidate\"),\n",
    "    \n",
    "    # col(\"abstracts-retrieval-response.affiliation[0].affiliation-city\").alias(\"affiliation_city\"),\n",
    "    # col(\"abstracts-retrieval-response.affiliation[0].@id\").alias(\"affiliation_id\"),\n",
    "    # col(\"abstracts-retrieval-response.affiliation[0].affilname\").alias(\"affiliation_name\"),\n",
    "    # col(\"abstracts-retrieval-response.affiliation[0].affiliation-country\").alias(\"affiliation_country\"),\n",
    "    \n",
    "    # col(\"abstracts-retrieval-response.item.bibrecord.tail.bibliography.reference[0].ref-info.refd-itemidlist.itemid[1].$\").alias(\"reference_itemid\")\n",
    "]\n",
    "\n",
    "additional_data_selected_columns = [\n",
    "    #normal columns\n",
    "    col(\"abstracts-retrieval-response.coredata.srctype\").alias(\"source_type\"),\n",
    "    col(\"abstracts-retrieval-response.coredata.prism:doi\").alias(\"prism:doi\"),\n",
    "    col(\"abstracts-retrieval-response.coredata.prism:coverDate\").alias(\"cover_date\"),\n",
    "    col(\"abstracts-retrieval-response.coredata.prism:aggregationType\").alias(\"aggregation_type\"),\n",
    "    col(\"abstracts-retrieval-response.coredata.source-id\").alias(\"source_id\"),\n",
    "    col(\"abstracts-retrieval-response.coredata.citedby-count\").alias(\"citedby_count\"),\n",
    "    col(\"abstracts-retrieval-response.coredata.prism:volume\").alias(\"volume\"),\n",
    "    col(\"abstracts-retrieval-response.coredata.subtype\").alias(\"subtype\"),\n",
    "    col(\"abstracts-retrieval-response.coredata.dc:title\").alias(\"title\"),\n",
    "    col(\"abstracts-retrieval-response.coredata.prism:issueIdentifier\").alias(\"issue_identifier\"),\n",
    "    col(\"abstracts-retrieval-response.coredata.subtypeDescription\").alias(\"subtype_description\"),\n",
    "    col(\"abstracts-retrieval-response.coredata.prism:publicationName\").alias(\"publication_name\"),\n",
    "    col(\"abstracts-retrieval-response.coredata.prism:startingPage\").alias(\"starting_page\"),\n",
    "    col(\"abstracts-retrieval-response.coredata.prism:endingPage\").alias(\"ending_page\"),\n",
    "    col(\"abstracts-retrieval-response.coredata.dc:identifier\").alias(\"identifier\"),\n",
    "    col(\"abstracts-retrieval-response.coredata.dc:publisher\").alias(\"publisher\"),\n",
    "\n",
    "    #array columns\n",
    "    col(\"abstracts-retrieval-response.coredata.dc:creator.author\").alias(\"authors\"),\n",
    "    col(\"abstracts-retrieval-response.affiliation\").alias(\"affiliation\"),\n",
    "]\n",
    "\n",
    "\n",
    "\n",
    "selected_df = df.select(*base_data_selected_columns)"
   ]
  },
  {
   "cell_type": "markdown",
   "metadata": {},
   "source": [
    "Topic Distribution Over Time"
   ]
  },
  {
   "cell_type": "code",
   "execution_count": 21,
   "metadata": {},
   "outputs": [
    {
     "name": "stdout",
     "output_type": "stream",
     "text": [
      "+--------------------+----+---------------+\n",
      "|        subject_area|date|aggregationType|\n",
      "+--------------------+----+---------------+\n",
      "|           Neurology|2022|        Journal|\n",
      "|Neurology (clinical)|2022|        Journal|\n",
      "|        Biochemistry|2020|        Journal|\n",
      "|  Molecular Medicine|2020|        Journal|\n",
      "|   Molecular Biology|2020|        Journal|\n",
      "|Pharmaceutical Sc...|2020|        Journal|\n",
      "|      Drug Discovery|2020|        Journal|\n",
      "|Clinical Biochemi...|2020|        Journal|\n",
      "|   Organic Chemistry|2020|        Journal|\n",
      "|Renewable Energy,...|2022|        Journal|\n",
      "|     Fuel Technology|2022|        Journal|\n",
      "|Condensed Matter ...|2022|        Journal|\n",
      "|Energy Engineerin...|2022|        Journal|\n",
      "|          Geophysics|2021|        Journal|\n",
      "|Earth and Planeta...|2021|        Journal|\n",
      "|   Multidisciplinary|2023|        Journal|\n",
      "|Public Health, En...|2023|        Journal|\n",
      "|Immunology and Al...|2022|        Journal|\n",
      "|          Immunology|2022|        Journal|\n",
      "|   Multidisciplinary|2023|        Journal|\n",
      "+--------------------+----+---------------+\n",
      "only showing top 20 rows\n",
      "\n"
     ]
    }
   ],
   "source": [
    "#Topic Distribution Over Time\n",
    "\n",
    "Topic_Distribution_Columns = [\n",
    "    col(\"abstracts-retrieval-response.subject-areas.subject-area\").alias('subject_area'), #ดูจำนวน subject แต่ละอัน ในแต่ละปี\n",
    "    col(\"abstracts-retrieval-response.coredata.prism:coverDate\").alias('date'), # ดูปี\n",
    "    col(\"abstracts-retrieval-response.coredata.prism:aggregationType\").alias('aggregationType') #  เผื่อดูแยกแต่ละประเภทการตีพิมพ์\n",
    "]\n",
    "\n",
    "Topic_Distribution_df = df.select(*Topic_Distribution_Columns)\n",
    "\n",
    "#Topic_Distribution_df.select('subject_area').show(10, False)\n",
    "Topic_Distribution_df_exploded = Topic_Distribution_df.withColumn('subject_area',explode(col('subject_area').getItem('$')))\n",
    "\n",
    "Topic_Distribution_df_year = Topic_Distribution_df_exploded.withColumn('date',regexp_extract(col('date'),r'(\\d{4})',1))\n",
    "\n",
    "Topic_Distribution_df_year.show()\n",
    "\n",
    "# Topic_Distribution_df_exploded.groupBy('subject_area').count().orderBy('count', ascending=False).show(10, False)\n",
    "\n",
    "\n",
    "# Topic_Distribution_df_year.filter(col('subject_area').isNull()).show(10, False)\n"
   ]
  },
  {
   "cell_type": "code",
   "execution_count": 54,
   "metadata": {},
   "outputs": [
    {
     "name": "stdout",
     "output_type": "stream",
     "text": [
      "Data extraction complete! Check the output folder.\n"
     ]
    }
   ],
   "source": [
    "output_file = \"./output/Topic_Distribution_Data\"  # Replace with your desired output path\n",
    "# Save the extracted data to CSV\n",
    "try:\n",
    "    Topic_Distribution_df_year.coalesce(1).write.option(\"header\", True).mode('overwrite').csv(output_file)\n",
    "    print(\"Data extraction complete! Check the output folder.\")\n",
    "except Exception as e:\n",
    "    print(f\"Error: {e}\")"
   ]
  },
  {
   "cell_type": "markdown",
   "metadata": {},
   "source": [
    "Citation network"
   ]
  },
  {
   "cell_type": "code",
   "execution_count": null,
   "metadata": {},
   "outputs": [
    {
     "name": "stdout",
     "output_type": "stream",
     "text": [
      "+-------------------------------------------------------------------------------------------------------------------------------------------------------------------------------------------------+-----------+\n",
      "|title                                                                                                                                                                                            |SGR_id     |\n",
      "+-------------------------------------------------------------------------------------------------------------------------------------------------------------------------------------------------+-----------+\n",
      "|Nuclear imaging for localization and surgical outcome prediction in epilepsy: A review of latest discoveries and future perspectives                                                             |85145388556|\n",
      "|Syntheses and anti-HIV and human cluster of differentiation 4 (CD4) down-modulating potencies of pyridine-fused cyclotriazadisulfonamide (CADA) compounds                                        |85096172220|\n",
      "|Effect of CoMo metal loading on H2 and CNTs production from biogas by integrative process                                                                                                        |85133691726|\n",
      "|Tropical Pacific Forcing of Hydroclimate in the Source Area of the Yellow River                                                                                                                  |85121026052|\n",
      "|Highly effective removal of perfluorooctanoic acid (PFOA) in water with DBD-plasma-enhanced rice husks                                                                                           |85168059883|\n",
      "|The prevalence and economic burden of treatment-resistant depression in Thailand                                                                                                                 |85167764240|\n",
      "|cGAS deficiency enhances inflammasome activation in macrophages and inflammatory pathology in pristane-induced lupus                                                                             |85145345425|\n",
      "|Development of eco-friendly antifungal and antibacterial adhesive derived from modified cassava starch waste/polyvinyl alcohol containing green synthesized nano-silver                          |85168236124|\n",
      "|Transcriptome analysis of Pueraria candollei var. mirifica for gene discovery in the biosyntheses of isoflavones and miroestrol                                                                  |85077258483|\n",
      "|Quantitative microbial risk assessment of the gastrointestinal risks to swimmers at Southeast Asian urban beaches using site-specific and combined autochthonous and fecal bacteria exposure data|85167455063|\n",
      "+-------------------------------------------------------------------------------------------------------------------------------------------------------------------------------------------------+-----------+\n",
      "only showing top 10 rows\n",
      "\n"
     ]
    }
   ],
   "source": [
    "#abstracts-retrieval-response.item.bibrecord.item-info.itemidlist.itemid //เอา SGR เป็นหลัก (ใช้ดู reference)\n",
    "#abstracts-retrieval-response.item.bibrecord.tail.bibliography.reference[0].ref-info.refd-itemidlist.itemid //เอา SGR เป็นหลัก (ใช้ดู reference)\n",
    "Citation_Network_Columns = [\n",
    "    col(\"abstracts-retrieval-response.coredata.dc:title\").alias('title'),\n",
    "    col(\"abstracts-retrieval-response.item.bibrecord.item-info.itemidlist.itemid\").alias('SGR_id'), #ดูจำนวน subject แต่ละอัน ในแต่ละปี\n",
    "]\n",
    "Citation_Network_df = df.select(*Citation_Network_Columns)\n",
    "\n",
    "Citation_Network_df_exploded = Citation_Network_df.withColumn('SGR_id',explode(col('SGR_id')))\n",
    "\n",
    "filtered_df = Citation_Network_df_exploded.filter(col(\"SGR_id\").getItem('@idtype') == (\"SGR\"))\n",
    "\n",
    "Title_SGR_ID_df = filtered_df.withColumn('SGR_id', col('SGR_id').getItem('$'))\n",
    "\n",
    "Title_SGR_ID_df.show(10, False)\n",
    "\n"
   ]
  },
  {
   "cell_type": "code",
   "execution_count": 104,
   "metadata": {},
   "outputs": [
    {
     "name": "stdout",
     "output_type": "stream",
     "text": [
      "+------------------------------------------------------------------------------------------------------------------------------------+-----------+-----------+\n",
      "|title                                                                                                                               |SGR_id     |Ref        |\n",
      "+------------------------------------------------------------------------------------------------------------------------------------+-----------+-----------+\n",
      "|Nuclear imaging for localization and surgical outcome prediction in epilepsy: A review of latest discoveries and future perspectives|85145388556|85056435462|\n",
      "|Nuclear imaging for localization and surgical outcome prediction in epilepsy: A review of latest discoveries and future perspectives|85145388556|33749638426|\n",
      "|Nuclear imaging for localization and surgical outcome prediction in epilepsy: A review of latest discoveries and future perspectives|85145388556|85109038660|\n",
      "|Nuclear imaging for localization and surgical outcome prediction in epilepsy: A review of latest discoveries and future perspectives|85145388556|84884471348|\n",
      "|Nuclear imaging for localization and surgical outcome prediction in epilepsy: A review of latest discoveries and future perspectives|85145388556|84890120034|\n",
      "|Nuclear imaging for localization and surgical outcome prediction in epilepsy: A review of latest discoveries and future perspectives|85145388556|85031787192|\n",
      "|Nuclear imaging for localization and surgical outcome prediction in epilepsy: A review of latest discoveries and future perspectives|85145388556|84866173318|\n",
      "|Nuclear imaging for localization and surgical outcome prediction in epilepsy: A review of latest discoveries and future perspectives|85145388556|84959364195|\n",
      "|Nuclear imaging for localization and surgical outcome prediction in epilepsy: A review of latest discoveries and future perspectives|85145388556|84926517255|\n",
      "|Nuclear imaging for localization and surgical outcome prediction in epilepsy: A review of latest discoveries and future perspectives|85145388556|84884863091|\n",
      "+------------------------------------------------------------------------------------------------------------------------------------+-----------+-----------+\n",
      "only showing top 10 rows\n",
      "\n"
     ]
    }
   ],
   "source": [
    "#abstracts-retrieval-response.item.bibrecord.tail.bibliography.reference[0].ref-info.refd-itemidlist.itemid //เอา SGR เป็นหลัก (ใช้ดู reference)\n",
    "Reference_Column = [\n",
    "    col(\"abstracts-retrieval-response.coredata.dc:title\").alias('title'),\n",
    "    col(\"abstracts-retrieval-response.item.bibrecord.tail.bibliography.reference\").alias('Ref'),\n",
    "]\n",
    "\n",
    "Reference_df = df.select(*Reference_Column)\n",
    "Reference_df_exploded = Reference_df.withColumn('Ref',explode(col('Ref')))\n",
    "\n",
    "Reference_df_id = Reference_df_exploded.withColumn('Ref', col('Ref').getItem('ref-info').getItem('refd-itemidlist').getItem('itemid'))\n",
    "\n",
    "\n",
    "schema = ArrayType(StructType([\n",
    "    StructField(\"$\", StringType(), True),\n",
    "    StructField(\"@idtype\", StringType(), True)\n",
    "]))\n",
    "Reference_df_id_json = Reference_df_id.withColumn('Ref', from_json(col('Ref'), schema))\n",
    "\n",
    "Reference_df_id_exploded = Reference_df_id_json.withColumn('Ref',explode(col('Ref')))\n",
    "\n",
    "filtered_df_SGR = Reference_df_id_exploded.filter(col(\"Ref\").getItem('@idtype') == (\"SGR\"))\n",
    "\n",
    "Reference_df_SGR = filtered_df_SGR.withColumn('Ref', col('Ref').getItem('$'))\n",
    "\n",
    "Connection_df = Reference_df_SGR.join(Title_SGR_ID_df, Reference_df_SGR.title == Title_SGR_ID_df.title, 'left').drop(Title_SGR_ID_df.title).select('title','SGR_id','Ref')\n",
    "\n",
    "Connection_df.show(10, False)"
   ]
  },
  {
   "cell_type": "code",
   "execution_count": 106,
   "metadata": {},
   "outputs": [
    {
     "name": "stdout",
     "output_type": "stream",
     "text": [
      "Data extraction complete! Check the output folder.\n"
     ]
    }
   ],
   "source": [
    "output_file_1 = \"./output/Citation_network_title_id\"  \n",
    "output_file_2 = \"./output/Citation_network_ref\"  \n",
    "# Save the extracted data to CSV\n",
    "try:\n",
    "    Title_SGR_ID_df.coalesce(1).write.option(\"header\", True).mode('overwrite').csv(output_file_1)\n",
    "    Connection_df.coalesce(1).write.option(\"header\", True).mode('overwrite').csv(output_file_2)\n",
    "    print(\"Data extraction complete! Check the output folder.\")\n",
    "except Exception as e:\n",
    "    print(f\"Error: {e}\")"
   ]
  },
  {
   "cell_type": "markdown",
   "metadata": {},
   "source": [
    "Journal Impact Prediction"
   ]
  },
  {
   "cell_type": "code",
   "execution_count": 4,
   "metadata": {},
   "outputs": [],
   "source": [
    "#abstracts-retrieval-response.coredata.prism:publicationName // แบ่งตามชื่อวารสาร\n",
    "#abstracts-retrieval-response.coredata.prism:aggregationType\n",
    "#abstracts-retrieval-response.coredata.citedby-count // เอามาคำนวณ impact factor\n",
    "#Impact factor คือ จำนวณ citation ทั้งหมดของวารสารนั้นๆ / จำนวน article ที่อยู่ในวารสารนั้น \n",
    "\n",
    "#Impact Factor (IF)= \n",
    "#Number of Articles in Journal / Sum of Citations for All Articles in Journal\n",
    "\n",
    "Journal_Impact_Column = [\n",
    "    col(\"abstracts-retrieval-response.coredata.dc:identifier\").alias('identifier'),\n",
    "    col(\"abstracts-retrieval-response.coredata.prism:publicationName\").alias('publication_name'),\n",
    "    col(\"abstracts-retrieval-response.coredata.prism:aggregationType\").alias('aggregationType'),\n",
    "    col(\"abstracts-retrieval-response.coredata.citedby-count\").alias('citedby_count'),\n",
    "    #เพิ่มเติม เป็นตัวแปรต้นสำหรับ predict\n",
    "    col(\"abstracts-retrieval-response.subject-areas.subject-area\").alias('subject_area'),\n",
    "    col(\"abstracts-retrieval-response.affiliation\").alias('affiliation'),\n",
    "    \n",
    "\n",
    "]\n",
    "Journal_Impact_df = df.select(*Journal_Impact_Column)\n",
    "\n",
    "# Journal_Impact_df.groupBy('publication_name').count().orderBy('count', ascending=False).show(10, False)\n",
    "Journal_Impact_df = Journal_Impact_df.withColumn(\n",
    "    'citedby_count', col('citedby_count').cast('int')\n",
    ")\n",
    "\n",
    "# เก็บไว้ก่อน\n",
    "# Journey_Count_By_Publication_Name = Journal_Impact_df.groupBy('publication_name').agg(\n",
    "#     sum('citedby_count').alias('total_citedby_count'),                                                                                                                                                                                                                                                                                                                                                                                                                                                                                                                                 \n",
    "#     count('citedby_count').alias('number_of_articles')\n",
    "#     ).orderBy('total_citedby_count', ascending=False)\n",
    "# Journey_Count_By_Publication_Name.show(10, False)"
   ]
  },
  {
   "cell_type": "code",
   "execution_count": 5,
   "metadata": {},
   "outputs": [
    {
     "name": "stdout",
     "output_type": "stream",
     "text": [
      "+-----------------------------------+------------------------------------+-------------+----------------------+-----------------------+-----------------+\n",
      "|affiliation_vector                 |subject_area_vector                 |citedby_count|aggregationType_vector|publication_name_vector|identifier_vector|\n",
      "+-----------------------------------+------------------------------------+-------------+----------------------+-----------------------+-----------------+\n",
      "|(80,[0],[1.0])                     |(68,[23,30,37,47],[1.0,1.0,1.0,1.0])|0            |(3,[1],[1.0])         |(38,[5],[1.0])         |(47,[37],[1.0])  |\n",
      "|(80,[0,56],[1.0,1.0])              |(68,[5,9],[1.0,1.0])                |8            |(3,[0],[1.0])         |(38,[6],[1.0])         |(47,[17],[1.0])  |\n",
      "|(80,[0,21,59,71],[1.0,1.0,1.0,1.0])|(68,[9,16,19,21],[1.0,1.0,1.0,1.0]) |68           |(3,[0],[1.0])         |(38,[7],[1.0])         |(47,[1],[1.0])   |\n",
      "|(80,[0],[1.0])                     |(68,[3,21,39],[1.0,1.0,1.0])        |0            |(3,[0],[1.0])         |(38,[8],[1.0])         |(47,[36],[1.0])  |\n",
      "|(80,[0,3,57],[1.0,1.0,1.0])        |(68,[0],[1.0])                      |4            |(3,[0],[1.0])         |(38,[0],[1.0])         |(47,[0],[1.0])   |\n",
      "|(80,[0,3,57],[1.0,1.0,1.0])        |(68,[0],[1.0])                      |0            |(3,[0],[1.0])         |(38,[0],[1.0])         |(47,[13],[1.0])  |\n",
      "|(80,[0,3,57],[1.0,1.0,1.0])        |(68,[0],[1.0])                      |2            |(3,[0],[1.0])         |(38,[0],[1.0])         |(47,[10],[1.0])  |\n",
      "|(80,[0,3,57],[1.0,1.0,1.0])        |(68,[0],[1.0])                      |2            |(3,[0],[1.0])         |(38,[0],[1.0])         |(47,[11],[1.0])  |\n",
      "|(80,[0,3,57],[1.0,1.0,1.0])        |(68,[0],[1.0])                      |2            |(3,[0],[1.0])         |(38,[0],[1.0])         |(47,[12],[1.0])  |\n",
      "|(80,[0,40,72,74],[1.0,1.0,1.0,1.0])|(68,[61],[1.0])                     |13           |(3,[0],[1.0])         |(38,[9],[1.0])         |(47,[7],[1.0])   |\n",
      "+-----------------------------------+------------------------------------+-------------+----------------------+-----------------------+-----------------+\n",
      "only showing top 10 rows\n",
      "\n"
     ]
    }
   ],
   "source": [
    "#start encoding subject_area\n",
    "Journal_Impact_df_exploded = Journal_Impact_df.withColumn('subject_area',explode(col('subject_area').getItem('$')))\n",
    "\n",
    "\n",
    "Journal_Impact_df_grouped = Journal_Impact_df_exploded.groupBy('publication_name').agg(\n",
    "    collect_list(\"subject_area\").alias(\"subject_area_list\"),\n",
    ")\n",
    "\n",
    "cv_subject = CountVectorizer(inputCol=\"subject_area_list\", outputCol=\"subject_area_vector\", binary=True)\n",
    "\n",
    "\n",
    "encode_subject_df = cv_subject.fit(Journal_Impact_df_grouped).transform(Journal_Impact_df_grouped).drop('subject_area_list').join(Journal_Impact_df, 'publication_name', 'left').drop('subject_area')\n",
    "\n",
    "#start encoding affiliation\n",
    "schema = ArrayType(StructType([\n",
    "    StructField(\"affiliation-city\", StringType(), True),\n",
    "    StructField(\"@id\", StringType(), True),\n",
    "    StructField(\"affilname\", StringType(), True),\n",
    "    StructField(\"affiliation-country\", StringType(), True),\n",
    "    StructField(\"@href\", StringType(), True),\n",
    "]))\n",
    "encode_subject_df_json = encode_subject_df.withColumn('affiliation', from_json(col('affiliation'), schema))\n",
    "\n",
    "encode_subject_df_json_exploded = encode_subject_df_json.withColumn('affiliation',explode(col('affiliation').getItem('affilname')))\n",
    "\n",
    "encode_subject_df_json_grouped = encode_subject_df_json_exploded.groupBy('publication_name').agg(\n",
    "    collect_list(\"affiliation\").alias(\"affiliation_list\"),\n",
    ")\n",
    "\n",
    "cv_affiliation = CountVectorizer(inputCol=\"affiliation_list\", outputCol=\"affiliation_vector\", binary=True)\n",
    "\n",
    "encode_affiliation_df = cv_affiliation.fit(encode_subject_df_json_grouped).transform(encode_subject_df_json_grouped).drop('affiliation_list').join(encode_subject_df_json, 'publication_name', 'left').drop('affiliation')\n",
    "\n",
    "\n",
    "#start encoding aggregationType & publication_name\n",
    "indexer_aggregation = StringIndexer(inputCol=\"aggregationType\", outputCol=\"aggregationType_index\")\n",
    "encoder_aggregation = OneHotEncoder(inputCol=\"aggregationType_index\", outputCol=\"aggregationType_vector\")\n",
    "\n",
    "indexer_publication = StringIndexer(inputCol=\"publication_name\", outputCol=\"publication_name_index\")\n",
    "encoder_publication = OneHotEncoder(inputCol=\"publication_name_index\", outputCol=\"publication_name_vector\")\n",
    "\n",
    "indexer_identifier = StringIndexer(inputCol=\"identifier\", outputCol=\"identifier_index\")\n",
    "encoder_identifier = OneHotEncoder(inputCol=\"identifier_index\", outputCol=\"identifier_vector\")\n",
    "\n",
    "pipeline = Pipeline(stages=[indexer_aggregation, indexer_publication , indexer_identifier , encoder_aggregation, encoder_publication , encoder_identifier])\n",
    "\n",
    "encode_df = pipeline.fit(encode_affiliation_df).transform(encode_affiliation_df).drop('aggregationType' , 'aggregationType_index', 'publication_name' , 'publication_name_index', 'identifier', 'identifier_index')\n",
    "\n",
    "encode_df.show(10, False)\n",
    "\n"
   ]
  },
  {
   "cell_type": "markdown",
   "metadata": {},
   "source": [
    "Data Science Component"
   ]
  },
  {
   "cell_type": "code",
   "execution_count": 13,
   "metadata": {},
   "outputs": [],
   "source": [
    "feature_columns = ['affiliation_vector', 'subject_area_vector', \n",
    "                   'aggregationType_vector', 'publication_name_vector', \n",
    "                   'identifier_vector']\n",
    "\n",
    "assembler = VectorAssembler(inputCols=feature_columns, outputCol=\"features\")\n",
    "data = assembler.transform(encode_df)\n",
    "data = data.select(\"features\", \"citedby_count\")\n",
    "\n",
    "train_data, test_data = data.randomSplit([0.7, 0.3], seed=42)\n",
    "\n",
    "gbt = GBTRegressor(featuresCol=\"features\", labelCol=\"citedby_count\", maxIter=100)\n",
    "model = gbt.fit(train_data)\n",
    "\n",
    "predictions = model.transform(test_data)"
   ]
  },
  {
   "cell_type": "code",
   "execution_count": 11,
   "metadata": {},
   "outputs": [
    {
     "name": "stdout",
     "output_type": "stream",
     "text": [
      "Root Mean Squared Error (RMSE): 8.216508340554153\n",
      "Mean Absolute Error (MAE): 4.751961190669713\n",
      "R-Squared (R²): -0.3733746009680414\n"
     ]
    }
   ],
   "source": [
    "# Create a RegressionEvaluator for RMSE, MAE, and R-squared\n",
    "evaluator_rmse = RegressionEvaluator(labelCol=\"citedby_count\", predictionCol=\"prediction\", metricName=\"rmse\")\n",
    "evaluator_mae = RegressionEvaluator(labelCol=\"citedby_count\", predictionCol=\"prediction\", metricName=\"mae\")\n",
    "evaluator_r2 = RegressionEvaluator(labelCol=\"citedby_count\", predictionCol=\"prediction\", metricName=\"r2\")\n",
    "\n",
    "# Compute RMSE, MAE, and R2 for the test set\n",
    "rmse = evaluator_rmse.evaluate(predictions)\n",
    "mae = evaluator_mae.evaluate(predictions)\n",
    "r2 = evaluator_r2.evaluate(predictions)\n",
    "\n",
    "# Print the evaluation metrics\n",
    "print(f\"Root Mean Squared Error (RMSE): {rmse}\")\n",
    "print(f\"Mean Absolute Error (MAE): {mae}\")\n",
    "print(f\"R-Squared (R²): {r2}\")"
   ]
  },
  {
   "cell_type": "code",
   "execution_count": null,
   "metadata": {},
   "outputs": [],
   "source": [
    "# param_grid = ParamGridBuilder() \\\n",
    "#     .addGrid(gbt.maxDepth, [9, 10]) \\\n",
    "#     .addGrid(gbt.maxIter, [95, 100]) \\\n",
    "#     .build()\n",
    "\n",
    "# crossval = CrossValidator(estimator=gbt,\n",
    "#                           estimatorParamMaps=param_grid,\n",
    "#                           evaluator=evaluator,\n",
    "#                           numFolds=3)\n",
    "\n",
    "# cv_model = crossval.fit(train_data)"
   ]
  },
  {
   "cell_type": "code",
   "execution_count": 10,
   "metadata": {},
   "outputs": [
    {
     "name": "stdout",
     "output_type": "stream",
     "text": [
      "+----------------------------------------------------------------------------------------------------------------------+-------------+--------------------+\n",
      "|features                                                                                                              |citedby_count|prediction          |\n",
      "+----------------------------------------------------------------------------------------------------------------------+-------------+--------------------+\n",
      "|(236,[0,2,4,7,8,9,10,11,13,81,82,84,98,148,155,218],[1.0,1.0,1.0,1.0,1.0,1.0,1.0,1.0,1.0,1.0,1.0,1.0,1.0,1.0,1.0,1.0])|2            |1.9996284562567626  |\n",
      "|(236,[0,2,27,62,70,81,87,147,148,181,232],[1.0,1.0,1.0,1.0,1.0,1.0,1.0,1.0,1.0,1.0,1.0])                              |0            |1.1107121419100825  |\n",
      "|(236,[0,3,57,80,148,151,199],[1.0,1.0,1.0,1.0,1.0,1.0,1.0])                                                           |2            |1.3633602193792043  |\n",
      "|(236,[0,3,57,80,148,151,200],[1.0,1.0,1.0,1.0,1.0,1.0,1.0])                                                           |2            |1.3633602193792043  |\n",
      "|(236,[0,4,14,38,80,148,162,209],[1.0,1.0,1.0,1.0,1.0,1.0,1.0,1.0])                                                    |23           |1.1107121419100825  |\n",
      "|(236,[0,5,6,92,154,210],[1.0,1.0,1.0,1.0,1.0,1.0])                                                                    |2            |2.907571940433673E-4|\n",
      "|(236,[0,5,6,92,154,211],[1.0,1.0,1.0,1.0,1.0,1.0])                                                                    |2            |2.907571940433673E-4|\n",
      "|(236,[0,17,18,20,43,73,95,150,185,197],[1.0,1.0,1.0,1.0,1.0,1.0,1.0,1.0,1.0,1.0])                                     |1            |2.907571940433673E-4|\n",
      "|(236,[0,22,32,67,82,83,84,148,165,212],[1.0,1.0,1.0,1.0,1.0,1.0,1.0,1.0,1.0,1.0])                                     |10           |1.700566034304263   |\n",
      "|(236,[0,31,34,36,41,49,86,144,148,173,213],[1.0,1.0,1.0,1.0,1.0,1.0,1.0,1.0,1.0,1.0,1.0])                             |6            |1.1107121419100825  |\n",
      "+----------------------------------------------------------------------------------------------------------------------+-------------+--------------------+\n",
      "only showing top 10 rows\n",
      "\n"
     ]
    }
   ],
   "source": [
    "predictions.show(10, False)"
   ]
  },
  {
   "cell_type": "code",
   "execution_count": 15,
   "metadata": {},
   "outputs": [
    {
     "name": "stdout",
     "output_type": "stream",
     "text": [
      "Data extraction complete! Check the output folder.\n"
     ]
    }
   ],
   "source": [
    "output_file = \"./output/Citedby_Prediction_Data.csv\"  # Replace with your desired output path\n",
    "# Save the extracted data to CSV\n",
    "try:\n",
    "    predictions.select('citedby_count', 'prediction').coalesce(1).write.option(\"header\", True).mode('overwrite').csv(output_file)\n",
    "    print(\"Data extraction complete! Check the output folder.\")\n",
    "except Exception as e:\n",
    "    print(f\"Error: {e}\")"
   ]
  }
 ],
 "metadata": {
  "kernelspec": {
   "display_name": "examver",
   "language": "python",
   "name": "python3"
  },
  "language_info": {
   "codemirror_mode": {
    "name": "ipython",
    "version": 3
   },
   "file_extension": ".py",
   "mimetype": "text/x-python",
   "name": "python",
   "nbconvert_exporter": "python",
   "pygments_lexer": "ipython3",
   "version": "3.11.10"
  }
 },
 "nbformat": 4,
 "nbformat_minor": 2
}
