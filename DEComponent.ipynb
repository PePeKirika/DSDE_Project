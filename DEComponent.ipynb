{
 "cells": [
  {
   "cell_type": "code",
   "execution_count": null,
   "metadata": {},
   "outputs": [],
   "source": [
    "import findspark\n",
    "findspark.init()\n",
    "\n",
    "spark_url = 'local'\n",
    "from pyspark.sql import SparkSession\n",
    "from pyspark.sql import SQLContext\n",
    "\n",
    "spark = SparkSession.builder\\\n",
    "        .master(spark_url)\\\n",
    "        .appName('Spark Tutorial')\\\n",
    "        .config('spark.ui.port', '4040')\\\n",
    "        .getOrCreate()\n",
    "\n",
    "sc = spark.sparkContext"
   ]
  },
  {
   "cell_type": "code",
   "execution_count": null,
   "metadata": {},
   "outputs": [],
   "source": [
    "from pyspark.sql.functions import col\n",
    "\n",
    "# Path to folders containing JSON files\n",
    "input_folder = \"./Raw_data/2022/\"  # Replace with your directory path\n",
    "output_file = \"./output/kuy/\"  # Replace with your desired output path\n",
    "\n",
    "# Load JSON files (read all files in the folder)\n",
    "df = spark.read.option(\"multiline\", True).json(input_folder)\n",
    "\n",
    "df.printSchema()\n",
    "\n",
    "\n",
    "# Adjusted column selection\n",
    "selected_columns = [\n",
    "    col(\"abstracts-retrieval-response.language.@xml:lang\").alias(\"language\"),\n",
    "    \n",
    "    col(\"abstracts-retrieval-response.coredata.srctype\").alias(\"source_type\"),\n",
    "    col(\"abstracts-retrieval-response.coredata.eid\").alias(\"eid\"),\n",
    "    col(\"abstracts-retrieval-response.coredata.prism:coverDate\").alias(\"cover_date\"),\n",
    "    col(\"abstracts-retrieval-response.coredata.prism:aggregationType\").alias(\"aggregation_type\"),\n",
    "    col(\"abstracts-retrieval-response.coredata.source-id\").alias(\"source_id\"),\n",
    "    col(\"abstracts-retrieval-response.coredata.citedby-count\").alias(\"citedby_count\"),\n",
    "    col(\"abstracts-retrieval-response.coredata.prism:volume\").alias(\"volume\"),\n",
    "    col(\"abstracts-retrieval-response.coredata.subtype\").alias(\"subtype\"),\n",
    "    col(\"abstracts-retrieval-response.coredata.dc:title\").alias(\"title\"),\n",
    "    col(\"abstracts-retrieval-response.coredata.prism:issueIdentifier\").alias(\"issue_identifier\"),\n",
    "    col(\"abstracts-retrieval-response.coredata.subtypeDescription\").alias(\"subtype_description\"),\n",
    "    col(\"abstracts-retrieval-response.coredata.prism:publicationName\").alias(\"publication_name\"),\n",
    "    col(\"abstracts-retrieval-response.coredata.prism:startingPage\").alias(\"starting_page\"),\n",
    "    col(\"abstracts-retrieval-response.coredata.prism:endingPage\").alias(\"ending_page\"),\n",
    "    col(\"abstracts-retrieval-response.coredata.dc:identifier\").alias(\"identifier\"),\n",
    "    col(\"abstracts-retrieval-response.coredata.dc:publisher\").alias(\"publisher\"),\n",
    "    ]\n",
    "# Apply selection\n",
    "try:\n",
    "    extracted_df = df.select(*selected_columns)\n",
    "    extracted_df.show()  # Display the data for validation\n",
    "    \n",
    "    # Save the extracted data to CSV\n",
    "    extracted_df.coalesce(1).write.option(\"header\", True).csv(output_file)\n",
    "    print(\"Data extraction complete! Check the output folder.\")\n",
    "except Exception as e:\n",
    "    print(f\"Error: {e}\")"
   ]
  }
 ],
 "metadata": {
  "kernelspec": {
   "display_name": "Python 3",
   "language": "python",
   "name": "python3"
  },
  "language_info": {
   "name": "python",
   "version": "3.11.4"
  }
 },
 "nbformat": 4,
 "nbformat_minor": 2
}
