{
 "cells": [
  {
   "cell_type": "code",
   "execution_count": null,
   "metadata": {},
   "outputs": [],
   "source": [
    "import os\n",
    "from pyspark.sql import SparkSession\n",
    "from pyspark.sql import SQLContext\n",
    "from pyspark.sql.functions import col"
   ]
  },
  {
   "cell_type": "code",
   "execution_count": null,
   "metadata": {},
   "outputs": [],
   "source": [
    "spark = SparkSession.builder\\\n",
    "        .master('local')\\\n",
    "        .appName('Spark Tutorial')\\\n",
    "        .config('spark.ui.port', '4040')\\\n",
    "        .getOrCreate()"
   ]
  },
  {
   "cell_type": "code",
   "execution_count": null,
   "metadata": {},
   "outputs": [
    {
     "name": "stdout",
     "output_type": "stream",
     "text": [
      "Processing directory: ./Raw_data\\2018\n",
      "Processing directory: ./Raw_data\\2019\n",
      "Data extraction complete! Check the output folder.\n"
     ]
    }
   ],
   "source": [
    "base_dir = \"./Raw_data\"  # Replace with your directory path\n",
    "output_file = \"./output\"  # Replace with your desired output path\n",
    "\n",
    "years = [str(year) for year in range(2018, 2023)]\n",
    "\n",
    "combined_df = None\n",
    "\n",
    "# Adjusted column selection\n",
    "selected_columns = [\n",
    "    col(\"abstracts-retrieval-response.language.@xml:lang\").alias(\"language\"),\n",
    "    \n",
    "    col(\"abstracts-retrieval-response.coredata.srctype\").alias(\"source_type\"),\n",
    "    col(\"abstracts-retrieval-response.coredata.eid\").alias(\"eid\"),\n",
    "    col(\"abstracts-retrieval-response.coredata.prism:coverDate\").alias(\"cover_date\"),\n",
    "    col(\"abstracts-retrieval-response.coredata.prism:aggregationType\").alias(\"aggregation_type\"),\n",
    "    col(\"abstracts-retrieval-response.coredata.source-id\").alias(\"source_id\"),\n",
    "    col(\"abstracts-retrieval-response.coredata.citedby-count\").alias(\"citedby_count\"),\n",
    "    col(\"abstracts-retrieval-response.coredata.prism:volume\").alias(\"volume\"),\n",
    "    col(\"abstracts-retrieval-response.coredata.subtype\").alias(\"subtype\"),\n",
    "    col(\"abstracts-retrieval-response.coredata.dc:title\").alias(\"title\"),\n",
    "    col(\"abstracts-retrieval-response.coredata.prism:issueIdentifier\").alias(\"issue_identifier\"),\n",
    "    col(\"abstracts-retrieval-response.coredata.subtypeDescription\").alias(\"subtype_description\"),\n",
    "    col(\"abstracts-retrieval-response.coredata.prism:publicationName\").alias(\"publication_name\"),\n",
    "    col(\"abstracts-retrieval-response.coredata.prism:startingPage\").alias(\"starting_page\"),\n",
    "    col(\"abstracts-retrieval-response.coredata.prism:endingPage\").alias(\"ending_page\"),\n",
    "    col(\"abstracts-retrieval-response.coredata.dc:identifier\").alias(\"identifier\"),\n",
    "    col(\"abstracts-retrieval-response.coredata.dc:publisher\").alias(\"publisher\"),\n",
    "]\n",
    "\n",
    "for year in years:\n",
    "    year_dir = os.path.join(base_dir, year)  # Construct the path to the year's folder\n",
    "    \n",
    "    # Check if the directory exists (optional but recommended)\n",
    "    if os.path.exists(year_dir):\n",
    "        print(f\"Processing directory: {year_dir}\")\n",
    "        \n",
    "        # Read JSON files from the folder\n",
    "        year_df = spark.read.option(\"multiline\", True).json(year_dir)\n",
    "        year_df = year_df.select(*selected_columns)\n",
    "        \n",
    "        # Combine with previous DataFrames\n",
    "        if combined_df is None:\n",
    "            combined_df = year_df\n",
    "        else:\n",
    "            combined_df = combined_df.union(year_df)\n",
    "    else:\n",
    "        print(f\"Directory does not exist: {year_dir}\")"
   ]
  },
  {
   "cell_type": "code",
   "execution_count": null,
   "metadata": {},
   "outputs": [],
   "source": [
    "# Save the extracted data to CSV\n",
    "try:\n",
    "    combined_df.coalesce(1).write.option(\"header\", True).mode('overwrite').csv(output_file)\n",
    "    print(\"Data extraction complete! Check the output folder.\")\n",
    "except Exception as e:\n",
    "    print(f\"Error: {e}\")"
   ]
  },
  {
   "cell_type": "code",
   "execution_count": 11,
   "metadata": {},
   "outputs": [
    {
     "data": {
      "text/plain": [
       "5874"
      ]
     },
     "execution_count": 11,
     "metadata": {},
     "output_type": "execute_result"
    }
   ],
   "source": [
    "combined_df.count()"
   ]
  }
 ],
 "metadata": {
  "kernelspec": {
   "display_name": "examver",
   "language": "python",
   "name": "python3"
  },
  "language_info": {
   "codemirror_mode": {
    "name": "ipython",
    "version": 3
   },
   "file_extension": ".py",
   "mimetype": "text/x-python",
   "name": "python",
   "nbconvert_exporter": "python",
   "pygments_lexer": "ipython3",
   "version": "3.11.10"
  }
 },
 "nbformat": 4,
 "nbformat_minor": 2
}
